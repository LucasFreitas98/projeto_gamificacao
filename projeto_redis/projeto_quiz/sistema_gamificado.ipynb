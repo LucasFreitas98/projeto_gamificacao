{
 "cells": [
  {
   "cell_type": "markdown",
   "metadata": {},
   "source": [
    "***Projeto: Sistema Gamificado de Quiz com Redis***"
   ]
  },
  {
   "cell_type": "code",
   "execution_count": 2,
   "metadata": {},
   "outputs": [
    {
     "name": "stdout",
     "output_type": "stream",
     "text": [
      "zsh: bad option string: '-m pip install --upgrade pip'\n",
      "Defaulting to user installation because normal site-packages is not writeable\n",
      "Requirement already satisfied: poetry in /Users/lucasfreitasdeoliveira/Library/Python/3.9/lib/python/site-packages (2.0.1)\n",
      "Requirement already satisfied: build<2.0.0,>=1.2.1 in /Users/lucasfreitasdeoliveira/Library/Python/3.9/lib/python/site-packages (from poetry) (1.2.2.post1)\n",
      "Requirement already satisfied: cachecontrol<0.15.0,>=0.14.0 in /Users/lucasfreitasdeoliveira/Library/Python/3.9/lib/python/site-packages (from cachecontrol[filecache]<0.15.0,>=0.14.0->poetry) (0.14.2)\n",
      "Requirement already satisfied: cleo<3.0.0,>=2.1.0 in /Users/lucasfreitasdeoliveira/Library/Python/3.9/lib/python/site-packages (from poetry) (2.1.0)\n",
      "Requirement already satisfied: dulwich<0.23.0,>=0.22.6 in /Users/lucasfreitasdeoliveira/Library/Python/3.9/lib/python/site-packages (from poetry) (0.22.7)\n",
      "Requirement already satisfied: fastjsonschema<3.0.0,>=2.18.0 in /Users/lucasfreitasdeoliveira/Library/Python/3.9/lib/python/site-packages (from poetry) (2.21.1)\n",
      "Requirement already satisfied: importlib-metadata>=4.4 in /Users/lucasfreitasdeoliveira/Library/Python/3.9/lib/python/site-packages (from poetry) (6.8.0)\n",
      "Requirement already satisfied: installer<0.8.0,>=0.7.0 in /Users/lucasfreitasdeoliveira/Library/Python/3.9/lib/python/site-packages (from poetry) (0.7.0)\n",
      "Requirement already satisfied: keyring<26.0.0,>=25.1.0 in /Users/lucasfreitasdeoliveira/Library/Python/3.9/lib/python/site-packages (from poetry) (25.6.0)\n",
      "Requirement already satisfied: packaging>=24.0 in /Users/lucasfreitasdeoliveira/Library/Python/3.9/lib/python/site-packages (from poetry) (24.1)\n",
      "Requirement already satisfied: pkginfo<2.0,>=1.12 in /Users/lucasfreitasdeoliveira/Library/Python/3.9/lib/python/site-packages (from poetry) (1.12.0)\n",
      "Requirement already satisfied: platformdirs<5,>=3.0.0 in /Users/lucasfreitasdeoliveira/Library/Python/3.9/lib/python/site-packages (from poetry) (3.9.1)\n",
      "Requirement already satisfied: poetry-core==2.0.1 in /Users/lucasfreitasdeoliveira/Library/Python/3.9/lib/python/site-packages (from poetry) (2.0.1)\n",
      "Requirement already satisfied: pyproject-hooks<2.0.0,>=1.0.0 in /Users/lucasfreitasdeoliveira/Library/Python/3.9/lib/python/site-packages (from poetry) (1.2.0)\n",
      "Requirement already satisfied: requests<3.0,>=2.26 in /Users/lucasfreitasdeoliveira/Library/Python/3.9/lib/python/site-packages (from poetry) (2.31.0)\n",
      "Requirement already satisfied: requests-toolbelt<2.0.0,>=1.0.0 in /Users/lucasfreitasdeoliveira/Library/Python/3.9/lib/python/site-packages (from poetry) (1.0.0)\n",
      "Requirement already satisfied: shellingham<2.0,>=1.5 in /Users/lucasfreitasdeoliveira/Library/Python/3.9/lib/python/site-packages (from poetry) (1.5.4)\n",
      "Requirement already satisfied: tomli<3.0.0,>=2.0.1 in /Users/lucasfreitasdeoliveira/Library/Python/3.9/lib/python/site-packages (from poetry) (2.2.1)\n",
      "Requirement already satisfied: tomlkit<1.0.0,>=0.11.4 in /Users/lucasfreitasdeoliveira/Library/Python/3.9/lib/python/site-packages (from poetry) (0.13.2)\n",
      "Requirement already satisfied: trove-classifiers>=2022.5.19 in /Users/lucasfreitasdeoliveira/Library/Python/3.9/lib/python/site-packages (from poetry) (2025.1.15.22)\n",
      "Requirement already satisfied: virtualenv<21.0.0,>=20.26.6 in /Users/lucasfreitasdeoliveira/Library/Python/3.9/lib/python/site-packages (from poetry) (20.29.1)\n",
      "Requirement already satisfied: xattr<2.0.0,>=1.0.0 in /Users/lucasfreitasdeoliveira/Library/Python/3.9/lib/python/site-packages (from poetry) (1.1.4)\n",
      "Requirement already satisfied: msgpack<2.0.0,>=0.5.2 in /Users/lucasfreitasdeoliveira/Library/Python/3.9/lib/python/site-packages (from cachecontrol<0.15.0,>=0.14.0->cachecontrol[filecache]<0.15.0,>=0.14.0->poetry) (1.1.0)\n",
      "Requirement already satisfied: filelock>=3.8.0 in /Users/lucasfreitasdeoliveira/Library/Python/3.9/lib/python/site-packages (from cachecontrol[filecache]<0.15.0,>=0.14.0->poetry) (3.16.0)\n",
      "Requirement already satisfied: crashtest<0.5.0,>=0.4.1 in /Users/lucasfreitasdeoliveira/Library/Python/3.9/lib/python/site-packages (from cleo<3.0.0,>=2.1.0->poetry) (0.4.1)\n",
      "Requirement already satisfied: rapidfuzz<4.0.0,>=3.0.0 in /Users/lucasfreitasdeoliveira/Library/Python/3.9/lib/python/site-packages (from cleo<3.0.0,>=2.1.0->poetry) (3.12.1)\n",
      "Requirement already satisfied: urllib3>=1.25 in /Users/lucasfreitasdeoliveira/Library/Python/3.9/lib/python/site-packages (from dulwich<0.23.0,>=0.22.6->poetry) (2.1.0)\n",
      "Requirement already satisfied: zipp>=0.5 in /Users/lucasfreitasdeoliveira/Library/Python/3.9/lib/python/site-packages (from importlib-metadata>=4.4->poetry) (3.16.2)\n",
      "Requirement already satisfied: jaraco.classes in /Users/lucasfreitasdeoliveira/Library/Python/3.9/lib/python/site-packages (from keyring<26.0.0,>=25.1.0->poetry) (3.4.0)\n",
      "Requirement already satisfied: jaraco.functools in /Users/lucasfreitasdeoliveira/Library/Python/3.9/lib/python/site-packages (from keyring<26.0.0,>=25.1.0->poetry) (4.1.0)\n",
      "Requirement already satisfied: jaraco.context in /Users/lucasfreitasdeoliveira/Library/Python/3.9/lib/python/site-packages (from keyring<26.0.0,>=25.1.0->poetry) (6.0.1)\n",
      "Requirement already satisfied: charset-normalizer<4,>=2 in /Users/lucasfreitasdeoliveira/Library/Python/3.9/lib/python/site-packages (from requests<3.0,>=2.26->poetry) (3.3.2)\n",
      "Requirement already satisfied: idna<4,>=2.5 in /Users/lucasfreitasdeoliveira/Library/Python/3.9/lib/python/site-packages (from requests<3.0,>=2.26->poetry) (3.6)\n",
      "Requirement already satisfied: certifi>=2017.4.17 in /Users/lucasfreitasdeoliveira/Library/Python/3.9/lib/python/site-packages (from requests<3.0,>=2.26->poetry) (2023.11.17)\n",
      "Requirement already satisfied: distlib<1,>=0.3.7 in /Users/lucasfreitasdeoliveira/Library/Python/3.9/lib/python/site-packages (from virtualenv<21.0.0,>=20.26.6->poetry) (0.3.9)\n",
      "Requirement already satisfied: cffi>=1.16.0 in /Users/lucasfreitasdeoliveira/Library/Python/3.9/lib/python/site-packages (from xattr<2.0.0,>=1.0.0->poetry) (1.17.1)\n",
      "Requirement already satisfied: pycparser in /Users/lucasfreitasdeoliveira/Library/Python/3.9/lib/python/site-packages (from cffi>=1.16.0->xattr<2.0.0,>=1.0.0->poetry) (2.22)\n",
      "Requirement already satisfied: more-itertools in /Users/lucasfreitasdeoliveira/Library/Python/3.9/lib/python/site-packages (from jaraco.classes->keyring<26.0.0,>=25.1.0->poetry) (10.6.0)\n",
      "Requirement already satisfied: backports.tarfile in /Users/lucasfreitasdeoliveira/Library/Python/3.9/lib/python/site-packages (from jaraco.context->keyring<26.0.0,>=25.1.0->poetry) (1.2.0)\n",
      "\n",
      "\u001b[1m[\u001b[0m\u001b[34;49mnotice\u001b[0m\u001b[1;39;49m]\u001b[0m\u001b[39;49m A new release of pip is available: \u001b[0m\u001b[31;49m24.0\u001b[0m\u001b[39;49m -> \u001b[0m\u001b[32;49m25.0\u001b[0m\n",
      "\u001b[1m[\u001b[0m\u001b[34;49mnotice\u001b[0m\u001b[1;39;49m]\u001b[0m\u001b[39;49m To update, run: \u001b[0m\u001b[32;49m/Library/Developer/CommandLineTools/usr/bin/python3 -m pip install --upgrade pip\u001b[0m\n"
     ]
    }
   ],
   "source": [
    "#1. Configuração do Ambiente e Dependências\n",
    "#### Criação do Ambiente Virtual e Instalação das Dependências\n",
    "\n",
    "\n",
    "\n",
    "#Instalação do Poetry\n",
    "!-m pip install --upgrade pip\n",
    "!pip install poetry"
   ]
  },
  {
   "cell_type": "code",
   "execution_count": null,
   "metadata": {},
   "outputs": [],
   "source": []
  },
  {
   "cell_type": "code",
   "execution_count": 3,
   "metadata": {},
   "outputs": [
    {
     "name": "stdout",
     "output_type": "stream",
     "text": [
      "/Users/lucasfreitasdeoliveira/Library/Python/3.9/lib/python/site-packages/urllib3/__init__.py:34: NotOpenSSLWarning: urllib3 v2 only supports OpenSSL 1.1.1+, currently the 'ssl' module is compiled with 'LibreSSL 2.8.3'. See: https://github.com/urllib3/urllib3/issues/3020\n",
      "  warnings.warn(\n"
     ]
    }
   ],
   "source": [
    "#Iniciando o projeto\n",
    "!poetry init --no-interaction"
   ]
  },
  {
   "cell_type": "code",
   "execution_count": 4,
   "metadata": {},
   "outputs": [
    {
     "name": "stdout",
     "output_type": "stream",
     "text": [
      "The file /Users/lucasfreitasdeoliveira/Documents/Cursos/FIAP/projeto_redis/projeto_quiz/yproject.toml does not exist.\n"
     ]
    }
   ],
   "source": [
    "#Confirmando o nome do projeto\n",
    "!open yproject.toml\n"
   ]
  },
  {
   "cell_type": "code",
   "execution_count": 5,
   "metadata": {},
   "outputs": [
    {
     "name": "stdout",
     "output_type": "stream",
     "text": [
      "/Users/lucasfreitasdeoliveira/Library/Python/3.9/lib/python/site-packages/urllib3/__init__.py:34: NotOpenSSLWarning: urllib3 v2 only supports OpenSSL 1.1.1+, currently the 'ssl' module is compiled with 'LibreSSL 2.8.3'. See: https://github.com/urllib3/urllib3/issues/3020\n",
      "  warnings.warn(\n",
      "Creating virtualenv \u001b[36mprojeto-quiz-kaA3Q3Ot-py3.9\u001b[39m in /Users/lucasfreitasdeoliveira/Library/Caches/pypoetry/virtualenvs\n",
      "Using version \u001b[39;1m^0.115.8\u001b[39;22m for \u001b[36mfastapi\u001b[39m\n",
      "Using version \u001b[39;1m^0.34.0\u001b[39;22m for \u001b[36muvicorn\u001b[39m\n",
      "Using version \u001b[39;1m^5.2.1\u001b[39;22m for \u001b[36mredis\u001b[39m\n",
      "Using version \u001b[39;1m^2.10.6\u001b[39;22m for \u001b[36mpydantic\u001b[39m\n",
      "\n",
      "\u001b[34mUpdating dependencies\u001b[39m\n",
      "\u001b[2K\u001b[34mResolving dependencies...\u001b[39m \u001b[39;2m(0.8s)\u001b[39;22m\n",
      "\n",
      "\u001b[39;1mPackage operations\u001b[39;22m: \u001b[34m15\u001b[39m installs, \u001b[34m0\u001b[39m updates, \u001b[34m0\u001b[39m removals\n",
      "\n",
      "  \u001b[34;1m-\u001b[39;22m \u001b[39mInstalling \u001b[39m\u001b[36mexceptiongroup\u001b[39m\u001b[39m (\u001b[39m\u001b[39;1m1.2.2\u001b[39;22m\u001b[39m)\u001b[39m: \u001b[34mPending...\u001b[39m\n",
      "  \u001b[34;1m-\u001b[39;22m \u001b[39mInstalling \u001b[39m\u001b[36midna\u001b[39m\u001b[39m (\u001b[39m\u001b[39;1m3.10\u001b[39;22m\u001b[39m)\u001b[39m: \u001b[34mPending...\u001b[39m\n",
      "  \u001b[34;1m-\u001b[39;22m \u001b[39mInstalling \u001b[39m\u001b[36msniffio\u001b[39m\u001b[39m (\u001b[39m\u001b[39;1m1.3.1\u001b[39;22m\u001b[39m)\u001b[39m: \u001b[34mPending...\u001b[39m\n",
      "  \u001b[34;1m-\u001b[39;22m \u001b[39mInstalling \u001b[39m\u001b[36mtyping-extensions\u001b[39m\u001b[39m (\u001b[39m\u001b[39;1m4.12.2\u001b[39;22m\u001b[39m)\u001b[39m: \u001b[34mPending...\u001b[39m\n",
      "\u001b[2A\u001b[0J  \u001b[34;1m-\u001b[39;22m \u001b[39mInstalling \u001b[39m\u001b[36mtyping-extensions\u001b[39m\u001b[39m (\u001b[39m\u001b[39;1m4.12.2\u001b[39;22m\u001b[39m)\u001b[39m: \u001b[34mPending...\u001b[39m\n",
      "\u001b[1A\u001b[0J  \u001b[34;1m-\u001b[39;22m \u001b[39mInstalling \u001b[39m\u001b[36msniffio\u001b[39m\u001b[39m (\u001b[39m\u001b[39;1m1.3.1\u001b[39;22m\u001b[39m)\u001b[39m: \u001b[34mInstalling...\u001b[39m\n",
      "  \u001b[34;1m-\u001b[39;22m \u001b[39mInstalling \u001b[39m\u001b[36mtyping-extensions\u001b[39m\u001b[39m (\u001b[39m\u001b[39;1m4.12.2\u001b[39;22m\u001b[39m)\u001b[39m: \u001b[34mPending...\u001b[39m\n",
      "\u001b[4A\u001b[0J  \u001b[34;1m-\u001b[39;22m \u001b[39mInstalling \u001b[39m\u001b[36midna\u001b[39m\u001b[39m (\u001b[39m\u001b[39;1m3.10\u001b[39;22m\u001b[39m)\u001b[39m: \u001b[34mPending...\u001b[39m\n",
      "  \u001b[34;1m-\u001b[39;22m \u001b[39mInstalling \u001b[39m\u001b[36msniffio\u001b[39m\u001b[39m (\u001b[39m\u001b[39;1m1.3.1\u001b[39;22m\u001b[39m)\u001b[39m: \u001b[34mInstalling...\u001b[39m\n",
      "  \u001b[34;1m-\u001b[39;22m \u001b[39mInstalling \u001b[39m\u001b[36mtyping-extensions\u001b[39m\u001b[39m (\u001b[39m\u001b[39;1m4.12.2\u001b[39;22m\u001b[39m)\u001b[39m: \u001b[34mPending...\u001b[39m\n",
      "\u001b[3A\u001b[0J  \u001b[34;1m-\u001b[39;22m \u001b[39mInstalling \u001b[39m\u001b[36mexceptiongroup\u001b[39m\u001b[39m (\u001b[39m\u001b[39;1m1.2.2\u001b[39;22m\u001b[39m)\u001b[39m: \u001b[34mInstalling...\u001b[39m\n",
      "  \u001b[34;1m-\u001b[39;22m \u001b[39mInstalling \u001b[39m\u001b[36midna\u001b[39m\u001b[39m (\u001b[39m\u001b[39;1m3.10\u001b[39;22m\u001b[39m)\u001b[39m: \u001b[34mPending...\u001b[39m\n",
      "  \u001b[34;1m-\u001b[39;22m \u001b[39mInstalling \u001b[39m\u001b[36msniffio\u001b[39m\u001b[39m (\u001b[39m\u001b[39;1m1.3.1\u001b[39;22m\u001b[39m)\u001b[39m: \u001b[34mInstalling...\u001b[39m\n",
      "  \u001b[34;1m-\u001b[39;22m \u001b[39mInstalling \u001b[39m\u001b[36mtyping-extensions\u001b[39m\u001b[39m (\u001b[39m\u001b[39;1m4.12.2\u001b[39;22m\u001b[39m)\u001b[39m: \u001b[34mPending...\u001b[39m\n",
      "\u001b[3A\u001b[0J  \u001b[34;1m-\u001b[39;22m \u001b[39mInstalling \u001b[39m\u001b[36msniffio\u001b[39m\u001b[39m (\u001b[39m\u001b[39;1m1.3.1\u001b[39;22m\u001b[39m)\u001b[39m: \u001b[34mInstalling...\u001b[39m\n",
      "  \u001b[34;1m-\u001b[39;22m \u001b[39mInstalling \u001b[39m\u001b[36mtyping-extensions\u001b[39m\u001b[39m (\u001b[39m\u001b[39;1m4.12.2\u001b[39;22m\u001b[39m)\u001b[39m: \u001b[34mPending...\u001b[39m\n",
      "\u001b[2A\u001b[0J  \u001b[34;1m-\u001b[39;22m \u001b[39mInstalling \u001b[39m\u001b[36midna\u001b[39m\u001b[39m (\u001b[39m\u001b[39;1m3.10\u001b[39;22m\u001b[39m)\u001b[39m: \u001b[34mInstalling...\u001b[39m\n",
      "  \u001b[34;1m-\u001b[39;22m \u001b[39mInstalling \u001b[39m\u001b[36msniffio\u001b[39m\u001b[39m (\u001b[39m\u001b[39;1m1.3.1\u001b[39;22m\u001b[39m)\u001b[39m: \u001b[34mInstalling...\u001b[39m\n",
      "  \u001b[34;1m-\u001b[39;22m \u001b[39mInstalling \u001b[39m\u001b[36mtyping-extensions\u001b[39m\u001b[39m (\u001b[39m\u001b[39;1m4.12.2\u001b[39;22m\u001b[39m)\u001b[39m: \u001b[34mPending...\u001b[39m\n",
      "\u001b[2A\u001b[0J  \u001b[34;1m-\u001b[39;22m \u001b[39mInstalling \u001b[39m\u001b[36mtyping-extensions\u001b[39m\u001b[39m (\u001b[39m\u001b[39;1m4.12.2\u001b[39;22m\u001b[39m)\u001b[39m: \u001b[34mPending...\u001b[39m\n",
      "\u001b[1A\u001b[0J  \u001b[32;1m-\u001b[39;22m \u001b[39mInstalling \u001b[39m\u001b[36msniffio\u001b[39m\u001b[39m (\u001b[39m\u001b[32m1.3.1\u001b[39m\u001b[39m)\u001b[39m\n",
      "  \u001b[34;1m-\u001b[39;22m \u001b[39mInstalling \u001b[39m\u001b[36mtyping-extensions\u001b[39m\u001b[39m (\u001b[39m\u001b[39;1m4.12.2\u001b[39;22m\u001b[39m)\u001b[39m: \u001b[34mPending...\u001b[39m\n",
      "\u001b[4A\u001b[0J  \u001b[34;1m-\u001b[39;22m \u001b[39mInstalling \u001b[39m\u001b[36midna\u001b[39m\u001b[39m (\u001b[39m\u001b[39;1m3.10\u001b[39;22m\u001b[39m)\u001b[39m: \u001b[34mInstalling...\u001b[39m\n",
      "  \u001b[32;1m-\u001b[39;22m \u001b[39mInstalling \u001b[39m\u001b[36msniffio\u001b[39m\u001b[39m (\u001b[39m\u001b[32m1.3.1\u001b[39m\u001b[39m)\u001b[39m\n",
      "  \u001b[34;1m-\u001b[39;22m \u001b[39mInstalling \u001b[39m\u001b[36mtyping-extensions\u001b[39m\u001b[39m (\u001b[39m\u001b[39;1m4.12.2\u001b[39;22m\u001b[39m)\u001b[39m: \u001b[34mPending...\u001b[39m\n",
      "\u001b[3A\u001b[0J  \u001b[32;1m-\u001b[39;22m \u001b[39mInstalling \u001b[39m\u001b[36mexceptiongroup\u001b[39m\u001b[39m (\u001b[39m\u001b[32m1.2.2\u001b[39m\u001b[39m)\u001b[39m\n",
      "  \u001b[34;1m-\u001b[39;22m \u001b[39mInstalling \u001b[39m\u001b[36midna\u001b[39m\u001b[39m (\u001b[39m\u001b[39;1m3.10\u001b[39;22m\u001b[39m)\u001b[39m: \u001b[34mInstalling...\u001b[39m\n",
      "  \u001b[32;1m-\u001b[39;22m \u001b[39mInstalling \u001b[39m\u001b[36msniffio\u001b[39m\u001b[39m (\u001b[39m\u001b[32m1.3.1\u001b[39m\u001b[39m)\u001b[39m\n",
      "  \u001b[34;1m-\u001b[39;22m \u001b[39mInstalling \u001b[39m\u001b[36mtyping-extensions\u001b[39m\u001b[39m (\u001b[39m\u001b[39;1m4.12.2\u001b[39;22m\u001b[39m)\u001b[39m: \u001b[34mPending...\u001b[39m\n",
      "\u001b[3A\u001b[0J  \u001b[32;1m-\u001b[39;22m \u001b[39mInstalling \u001b[39m\u001b[36msniffio\u001b[39m\u001b[39m (\u001b[39m\u001b[32m1.3.1\u001b[39m\u001b[39m)\u001b[39m\n",
      "  \u001b[34;1m-\u001b[39;22m \u001b[39mInstalling \u001b[39m\u001b[36mtyping-extensions\u001b[39m\u001b[39m (\u001b[39m\u001b[39;1m4.12.2\u001b[39;22m\u001b[39m)\u001b[39m: \u001b[34mPending...\u001b[39m\n",
      "\u001b[2A\u001b[0J  \u001b[32;1m-\u001b[39;22m \u001b[39mInstalling \u001b[39m\u001b[36midna\u001b[39m\u001b[39m (\u001b[39m\u001b[32m3.10\u001b[39m\u001b[39m)\u001b[39m\n",
      "  \u001b[32;1m-\u001b[39;22m \u001b[39mInstalling \u001b[39m\u001b[36msniffio\u001b[39m\u001b[39m (\u001b[39m\u001b[32m1.3.1\u001b[39m\u001b[39m)\u001b[39m\n",
      "  \u001b[34;1m-\u001b[39;22m \u001b[39mInstalling \u001b[39m\u001b[36mtyping-extensions\u001b[39m\u001b[39m (\u001b[39m\u001b[39;1m4.12.2\u001b[39;22m\u001b[39m)\u001b[39m: \u001b[34mPending...\u001b[39m\n",
      "\u001b[1A\u001b[0J  \u001b[34;1m-\u001b[39;22m \u001b[39mInstalling \u001b[39m\u001b[36mtyping-extensions\u001b[39m\u001b[39m (\u001b[39m\u001b[39;1m4.12.2\u001b[39;22m\u001b[39m)\u001b[39m: \u001b[34mInstalling...\u001b[39m\n",
      "\u001b[1A\u001b[0J  \u001b[32;1m-\u001b[39;22m \u001b[39mInstalling \u001b[39m\u001b[36mtyping-extensions\u001b[39m\u001b[39m (\u001b[39m\u001b[32m4.12.2\u001b[39m\u001b[39m)\u001b[39m\n",
      "  \u001b[34;1m-\u001b[39;22m \u001b[39mInstalling \u001b[39m\u001b[36mannotated-types\u001b[39m\u001b[39m (\u001b[39m\u001b[39;1m0.7.0\u001b[39;22m\u001b[39m)\u001b[39m: \u001b[34mPending...\u001b[39m\n",
      "  \u001b[34;1m-\u001b[39;22m \u001b[39mInstalling \u001b[39m\u001b[36manyio\u001b[39m\u001b[39m (\u001b[39m\u001b[39;1m4.8.0\u001b[39;22m\u001b[39m)\u001b[39m: \u001b[34mPending...\u001b[39m\n",
      "  \u001b[34;1m-\u001b[39;22m \u001b[39mInstalling \u001b[39m\u001b[36mpydantic-core\u001b[39m\u001b[39m (\u001b[39m\u001b[39;1m2.27.2\u001b[39;22m\u001b[39m)\u001b[39m: \u001b[34mPending...\u001b[39m\n",
      "\u001b[2A\u001b[0J  \u001b[34;1m-\u001b[39;22m \u001b[39mInstalling \u001b[39m\u001b[36mpydantic-core\u001b[39m\u001b[39m (\u001b[39m\u001b[39;1m2.27.2\u001b[39;22m\u001b[39m)\u001b[39m: \u001b[34mPending...\u001b[39m\n",
      "\u001b[1A\u001b[0J  \u001b[34;1m-\u001b[39;22m \u001b[39mInstalling \u001b[39m\u001b[36manyio\u001b[39m\u001b[39m (\u001b[39m\u001b[39;1m4.8.0\u001b[39;22m\u001b[39m)\u001b[39m: \u001b[34mInstalling...\u001b[39m\n",
      "  \u001b[34;1m-\u001b[39;22m \u001b[39mInstalling \u001b[39m\u001b[36mpydantic-core\u001b[39m\u001b[39m (\u001b[39m\u001b[39;1m2.27.2\u001b[39;22m\u001b[39m)\u001b[39m: \u001b[34mPending...\u001b[39m\n",
      "\u001b[2A\u001b[0J  \u001b[34;1m-\u001b[39;22m \u001b[39mInstalling \u001b[39m\u001b[36mpydantic-core\u001b[39m\u001b[39m (\u001b[39m\u001b[39;1m2.27.2\u001b[39;22m\u001b[39m)\u001b[39m: \u001b[34mPending...\u001b[39m\n",
      "\u001b[1A\u001b[0J  \u001b[32;1m-\u001b[39;22m \u001b[39mInstalling \u001b[39m\u001b[36manyio\u001b[39m\u001b[39m (\u001b[39m\u001b[32m4.8.0\u001b[39m\u001b[39m)\u001b[39m\n",
      "  \u001b[34;1m-\u001b[39;22m \u001b[39mInstalling \u001b[39m\u001b[36mpydantic-core\u001b[39m\u001b[39m (\u001b[39m\u001b[39;1m2.27.2\u001b[39;22m\u001b[39m)\u001b[39m: \u001b[34mPending...\u001b[39m\n",
      "\u001b[1A\u001b[0J  \u001b[34;1m-\u001b[39;22m \u001b[39mInstalling \u001b[39m\u001b[36mpydantic-core\u001b[39m\u001b[39m (\u001b[39m\u001b[39;1m2.27.2\u001b[39;22m\u001b[39m)\u001b[39m: \u001b[34mInstalling...\u001b[39m\n",
      "\u001b[1A\u001b[0J  \u001b[32;1m-\u001b[39;22m \u001b[39mInstalling \u001b[39m\u001b[36mpydantic-core\u001b[39m\u001b[39m (\u001b[39m\u001b[32m2.27.2\u001b[39m\u001b[39m)\u001b[39m\n",
      "\u001b[3A\u001b[0J  \u001b[32;1m-\u001b[39;22m \u001b[39mInstalling \u001b[39m\u001b[36manyio\u001b[39m\u001b[39m (\u001b[39m\u001b[32m4.8.0\u001b[39m\u001b[39m)\u001b[39m\n",
      "  \u001b[32;1m-\u001b[39;22m \u001b[39mInstalling \u001b[39m\u001b[36mpydantic-core\u001b[39m\u001b[39m (\u001b[39m\u001b[32m2.27.2\u001b[39m\u001b[39m)\u001b[39m\n",
      "\u001b[2A\u001b[0J  \u001b[34;1m-\u001b[39;22m \u001b[39mInstalling \u001b[39m\u001b[36mannotated-types\u001b[39m\u001b[39m (\u001b[39m\u001b[39;1m0.7.0\u001b[39;22m\u001b[39m)\u001b[39m: \u001b[34mInstalling...\u001b[39m\n",
      "  \u001b[32;1m-\u001b[39;22m \u001b[39mInstalling \u001b[39m\u001b[36manyio\u001b[39m\u001b[39m (\u001b[39m\u001b[32m4.8.0\u001b[39m\u001b[39m)\u001b[39m\n",
      "  \u001b[32;1m-\u001b[39;22m \u001b[39mInstalling \u001b[39m\u001b[36mpydantic-core\u001b[39m\u001b[39m (\u001b[39m\u001b[32m2.27.2\u001b[39m\u001b[39m)\u001b[39m\n",
      "\u001b[3A\u001b[0J  \u001b[32;1m-\u001b[39;22m \u001b[39mInstalling \u001b[39m\u001b[36manyio\u001b[39m\u001b[39m (\u001b[39m\u001b[32m4.8.0\u001b[39m\u001b[39m)\u001b[39m\n",
      "  \u001b[32;1m-\u001b[39;22m \u001b[39mInstalling \u001b[39m\u001b[36mpydantic-core\u001b[39m\u001b[39m (\u001b[39m\u001b[32m2.27.2\u001b[39m\u001b[39m)\u001b[39m\n",
      "\u001b[2A\u001b[0J  \u001b[32;1m-\u001b[39;22m \u001b[39mInstalling \u001b[39m\u001b[36mannotated-types\u001b[39m\u001b[39m (\u001b[39m\u001b[32m0.7.0\u001b[39m\u001b[39m)\u001b[39m\n",
      "  \u001b[32;1m-\u001b[39;22m \u001b[39mInstalling \u001b[39m\u001b[36manyio\u001b[39m\u001b[39m (\u001b[39m\u001b[32m4.8.0\u001b[39m\u001b[39m)\u001b[39m\n",
      "  \u001b[32;1m-\u001b[39;22m \u001b[39mInstalling \u001b[39m\u001b[36mpydantic-core\u001b[39m\u001b[39m (\u001b[39m\u001b[32m2.27.2\u001b[39m\u001b[39m)\u001b[39m\n",
      "  \u001b[34;1m-\u001b[39;22m \u001b[39mInstalling \u001b[39m\u001b[36masync-timeout\u001b[39m\u001b[39m (\u001b[39m\u001b[39;1m5.0.1\u001b[39;22m\u001b[39m)\u001b[39m: \u001b[34mPending...\u001b[39m\n",
      "  \u001b[34;1m-\u001b[39;22m \u001b[39mInstalling \u001b[39m\u001b[36mclick\u001b[39m\u001b[39m (\u001b[39m\u001b[39;1m8.1.8\u001b[39;22m\u001b[39m)\u001b[39m: \u001b[34mPending...\u001b[39m\n",
      "  \u001b[34;1m-\u001b[39;22m \u001b[39mInstalling \u001b[39m\u001b[36mh11\u001b[39m\u001b[39m (\u001b[39m\u001b[39;1m0.14.0\u001b[39;22m\u001b[39m)\u001b[39m: \u001b[34mPending...\u001b[39m\n",
      "  \u001b[34;1m-\u001b[39;22m \u001b[39mInstalling \u001b[39m\u001b[36mpydantic\u001b[39m\u001b[39m (\u001b[39m\u001b[39;1m2.10.6\u001b[39;22m\u001b[39m)\u001b[39m: \u001b[34mPending...\u001b[39m\n",
      "  \u001b[34;1m-\u001b[39;22m \u001b[39mInstalling \u001b[39m\u001b[36mstarlette\u001b[39m\u001b[39m (\u001b[39m\u001b[39;1m0.45.3\u001b[39;22m\u001b[39m)\u001b[39m: \u001b[34mPending...\u001b[39m\n",
      "\u001b[1A\u001b[0J  \u001b[34;1m-\u001b[39;22m \u001b[39mInstalling \u001b[39m\u001b[36mstarlette\u001b[39m\u001b[39m (\u001b[39m\u001b[39;1m0.45.3\u001b[39;22m\u001b[39m)\u001b[39m: \u001b[34mInstalling...\u001b[39m\n",
      "\u001b[1A\u001b[0J  \u001b[32;1m-\u001b[39;22m \u001b[39mInstalling \u001b[39m\u001b[36mstarlette\u001b[39m\u001b[39m (\u001b[39m\u001b[32m0.45.3\u001b[39m\u001b[39m)\u001b[39m\n",
      "\u001b[3A\u001b[0J  \u001b[34;1m-\u001b[39;22m \u001b[39mInstalling \u001b[39m\u001b[36mpydantic\u001b[39m\u001b[39m (\u001b[39m\u001b[39;1m2.10.6\u001b[39;22m\u001b[39m)\u001b[39m: \u001b[34mPending...\u001b[39m\n",
      "  \u001b[32;1m-\u001b[39;22m \u001b[39mInstalling \u001b[39m\u001b[36mstarlette\u001b[39m\u001b[39m (\u001b[39m\u001b[32m0.45.3\u001b[39m\u001b[39m)\u001b[39m\n",
      "\u001b[2A\u001b[0J  \u001b[34;1m-\u001b[39;22m \u001b[39mInstalling \u001b[39m\u001b[36mh11\u001b[39m\u001b[39m (\u001b[39m\u001b[39;1m0.14.0\u001b[39;22m\u001b[39m)\u001b[39m: \u001b[34mInstalling...\u001b[39m\n",
      "  \u001b[34;1m-\u001b[39;22m \u001b[39mInstalling \u001b[39m\u001b[36mpydantic\u001b[39m\u001b[39m (\u001b[39m\u001b[39;1m2.10.6\u001b[39;22m\u001b[39m)\u001b[39m: \u001b[34mPending...\u001b[39m\n",
      "  \u001b[32;1m-\u001b[39;22m \u001b[39mInstalling \u001b[39m\u001b[36mstarlette\u001b[39m\u001b[39m (\u001b[39m\u001b[32m0.45.3\u001b[39m\u001b[39m)\u001b[39m\n",
      "\u001b[3A\u001b[0J  \u001b[34;1m-\u001b[39;22m \u001b[39mInstalling \u001b[39m\u001b[36mpydantic\u001b[39m\u001b[39m (\u001b[39m\u001b[39;1m2.10.6\u001b[39;22m\u001b[39m)\u001b[39m: \u001b[34mPending...\u001b[39m\n",
      "  \u001b[32;1m-\u001b[39;22m \u001b[39mInstalling \u001b[39m\u001b[36mstarlette\u001b[39m\u001b[39m (\u001b[39m\u001b[32m0.45.3\u001b[39m\u001b[39m)\u001b[39m\n",
      "\u001b[2A\u001b[0J  \u001b[32;1m-\u001b[39;22m \u001b[39mInstalling \u001b[39m\u001b[36mh11\u001b[39m\u001b[39m (\u001b[39m\u001b[32m0.14.0\u001b[39m\u001b[39m)\u001b[39m\n",
      "  \u001b[34;1m-\u001b[39;22m \u001b[39mInstalling \u001b[39m\u001b[36mpydantic\u001b[39m\u001b[39m (\u001b[39m\u001b[39;1m2.10.6\u001b[39;22m\u001b[39m)\u001b[39m: \u001b[34mPending...\u001b[39m\n",
      "  \u001b[32;1m-\u001b[39;22m \u001b[39mInstalling \u001b[39m\u001b[36mstarlette\u001b[39m\u001b[39m (\u001b[39m\u001b[32m0.45.3\u001b[39m\u001b[39m)\u001b[39m\n",
      "\u001b[4A\u001b[0J  \u001b[32;1m-\u001b[39;22m \u001b[39mInstalling \u001b[39m\u001b[36mh11\u001b[39m\u001b[39m (\u001b[39m\u001b[32m0.14.0\u001b[39m\u001b[39m)\u001b[39m\n",
      "  \u001b[34;1m-\u001b[39;22m \u001b[39mInstalling \u001b[39m\u001b[36mpydantic\u001b[39m\u001b[39m (\u001b[39m\u001b[39;1m2.10.6\u001b[39;22m\u001b[39m)\u001b[39m: \u001b[34mPending...\u001b[39m\n",
      "  \u001b[32;1m-\u001b[39;22m \u001b[39mInstalling \u001b[39m\u001b[36mstarlette\u001b[39m\u001b[39m (\u001b[39m\u001b[32m0.45.3\u001b[39m\u001b[39m)\u001b[39m\n",
      "\u001b[3A\u001b[0J  \u001b[34;1m-\u001b[39;22m \u001b[39mInstalling \u001b[39m\u001b[36mclick\u001b[39m\u001b[39m (\u001b[39m\u001b[39;1m8.1.8\u001b[39;22m\u001b[39m)\u001b[39m: \u001b[34mInstalling...\u001b[39m\n",
      "  \u001b[32;1m-\u001b[39;22m \u001b[39mInstalling \u001b[39m\u001b[36mh11\u001b[39m\u001b[39m (\u001b[39m\u001b[32m0.14.0\u001b[39m\u001b[39m)\u001b[39m\n",
      "  \u001b[34;1m-\u001b[39;22m \u001b[39mInstalling \u001b[39m\u001b[36mpydantic\u001b[39m\u001b[39m (\u001b[39m\u001b[39;1m2.10.6\u001b[39;22m\u001b[39m)\u001b[39m: \u001b[34mPending...\u001b[39m\n",
      "  \u001b[32;1m-\u001b[39;22m \u001b[39mInstalling \u001b[39m\u001b[36mstarlette\u001b[39m\u001b[39m (\u001b[39m\u001b[32m0.45.3\u001b[39m\u001b[39m)\u001b[39m\n",
      "\u001b[4A\u001b[0J  \u001b[32;1m-\u001b[39;22m \u001b[39mInstalling \u001b[39m\u001b[36mh11\u001b[39m\u001b[39m (\u001b[39m\u001b[32m0.14.0\u001b[39m\u001b[39m)\u001b[39m\n",
      "  \u001b[34;1m-\u001b[39;22m \u001b[39mInstalling \u001b[39m\u001b[36mpydantic\u001b[39m\u001b[39m (\u001b[39m\u001b[39;1m2.10.6\u001b[39;22m\u001b[39m)\u001b[39m: \u001b[34mPending...\u001b[39m\n",
      "  \u001b[32;1m-\u001b[39;22m \u001b[39mInstalling \u001b[39m\u001b[36mstarlette\u001b[39m\u001b[39m (\u001b[39m\u001b[32m0.45.3\u001b[39m\u001b[39m)\u001b[39m\n",
      "\u001b[3A\u001b[0J  \u001b[32;1m-\u001b[39;22m \u001b[39mInstalling \u001b[39m\u001b[36mclick\u001b[39m\u001b[39m (\u001b[39m\u001b[32m8.1.8\u001b[39m\u001b[39m)\u001b[39m\n",
      "  \u001b[32;1m-\u001b[39;22m \u001b[39mInstalling \u001b[39m\u001b[36mh11\u001b[39m\u001b[39m (\u001b[39m\u001b[32m0.14.0\u001b[39m\u001b[39m)\u001b[39m\n",
      "  \u001b[34;1m-\u001b[39;22m \u001b[39mInstalling \u001b[39m\u001b[36mpydantic\u001b[39m\u001b[39m (\u001b[39m\u001b[39;1m2.10.6\u001b[39;22m\u001b[39m)\u001b[39m: \u001b[34mPending...\u001b[39m\n",
      "  \u001b[32;1m-\u001b[39;22m \u001b[39mInstalling \u001b[39m\u001b[36mstarlette\u001b[39m\u001b[39m (\u001b[39m\u001b[32m0.45.3\u001b[39m\u001b[39m)\u001b[39m\n",
      "\u001b[5A\u001b[0J  \u001b[32;1m-\u001b[39;22m \u001b[39mInstalling \u001b[39m\u001b[36mclick\u001b[39m\u001b[39m (\u001b[39m\u001b[32m8.1.8\u001b[39m\u001b[39m)\u001b[39m\n",
      "  \u001b[32;1m-\u001b[39;22m \u001b[39mInstalling \u001b[39m\u001b[36mh11\u001b[39m\u001b[39m (\u001b[39m\u001b[32m0.14.0\u001b[39m\u001b[39m)\u001b[39m\n",
      "  \u001b[34;1m-\u001b[39;22m \u001b[39mInstalling \u001b[39m\u001b[36mpydantic\u001b[39m\u001b[39m (\u001b[39m\u001b[39;1m2.10.6\u001b[39;22m\u001b[39m)\u001b[39m: \u001b[34mPending...\u001b[39m\n",
      "  \u001b[32;1m-\u001b[39;22m \u001b[39mInstalling \u001b[39m\u001b[36mstarlette\u001b[39m\u001b[39m (\u001b[39m\u001b[32m0.45.3\u001b[39m\u001b[39m)\u001b[39m\n",
      "\u001b[4A\u001b[0J  \u001b[34;1m-\u001b[39;22m \u001b[39mInstalling \u001b[39m\u001b[36masync-timeout\u001b[39m\u001b[39m (\u001b[39m\u001b[39;1m5.0.1\u001b[39;22m\u001b[39m)\u001b[39m: \u001b[34mInstalling...\u001b[39m\n",
      "  \u001b[32;1m-\u001b[39;22m \u001b[39mInstalling \u001b[39m\u001b[36mclick\u001b[39m\u001b[39m (\u001b[39m\u001b[32m8.1.8\u001b[39m\u001b[39m)\u001b[39m\n",
      "  \u001b[32;1m-\u001b[39;22m \u001b[39mInstalling \u001b[39m\u001b[36mh11\u001b[39m\u001b[39m (\u001b[39m\u001b[32m0.14.0\u001b[39m\u001b[39m)\u001b[39m\n",
      "  \u001b[34;1m-\u001b[39;22m \u001b[39mInstalling \u001b[39m\u001b[36mpydantic\u001b[39m\u001b[39m (\u001b[39m\u001b[39;1m2.10.6\u001b[39;22m\u001b[39m)\u001b[39m: \u001b[34mPending...\u001b[39m\n",
      "  \u001b[32;1m-\u001b[39;22m \u001b[39mInstalling \u001b[39m\u001b[36mstarlette\u001b[39m\u001b[39m (\u001b[39m\u001b[32m0.45.3\u001b[39m\u001b[39m)\u001b[39m\n",
      "\u001b[5A\u001b[0J  \u001b[32;1m-\u001b[39;22m \u001b[39mInstalling \u001b[39m\u001b[36mclick\u001b[39m\u001b[39m (\u001b[39m\u001b[32m8.1.8\u001b[39m\u001b[39m)\u001b[39m\n",
      "  \u001b[32;1m-\u001b[39;22m \u001b[39mInstalling \u001b[39m\u001b[36mh11\u001b[39m\u001b[39m (\u001b[39m\u001b[32m0.14.0\u001b[39m\u001b[39m)\u001b[39m\n",
      "  \u001b[34;1m-\u001b[39;22m \u001b[39mInstalling \u001b[39m\u001b[36mpydantic\u001b[39m\u001b[39m (\u001b[39m\u001b[39;1m2.10.6\u001b[39;22m\u001b[39m)\u001b[39m: \u001b[34mPending...\u001b[39m\n",
      "  \u001b[32;1m-\u001b[39;22m \u001b[39mInstalling \u001b[39m\u001b[36mstarlette\u001b[39m\u001b[39m (\u001b[39m\u001b[32m0.45.3\u001b[39m\u001b[39m)\u001b[39m\n",
      "\u001b[4A\u001b[0J  \u001b[32;1m-\u001b[39;22m \u001b[39mInstalling \u001b[39m\u001b[36masync-timeout\u001b[39m\u001b[39m (\u001b[39m\u001b[32m5.0.1\u001b[39m\u001b[39m)\u001b[39m\n",
      "  \u001b[32;1m-\u001b[39;22m \u001b[39mInstalling \u001b[39m\u001b[36mclick\u001b[39m\u001b[39m (\u001b[39m\u001b[32m8.1.8\u001b[39m\u001b[39m)\u001b[39m\n",
      "  \u001b[32;1m-\u001b[39;22m \u001b[39mInstalling \u001b[39m\u001b[36mh11\u001b[39m\u001b[39m (\u001b[39m\u001b[32m0.14.0\u001b[39m\u001b[39m)\u001b[39m\n",
      "  \u001b[34;1m-\u001b[39;22m \u001b[39mInstalling \u001b[39m\u001b[36mpydantic\u001b[39m\u001b[39m (\u001b[39m\u001b[39;1m2.10.6\u001b[39;22m\u001b[39m)\u001b[39m: \u001b[34mPending...\u001b[39m\n",
      "  \u001b[32;1m-\u001b[39;22m \u001b[39mInstalling \u001b[39m\u001b[36mstarlette\u001b[39m\u001b[39m (\u001b[39m\u001b[32m0.45.3\u001b[39m\u001b[39m)\u001b[39m\n",
      "\u001b[2A\u001b[0J  \u001b[32;1m-\u001b[39;22m \u001b[39mInstalling \u001b[39m\u001b[36mstarlette\u001b[39m\u001b[39m (\u001b[39m\u001b[32m0.45.3\u001b[39m\u001b[39m)\u001b[39m\n",
      "\u001b[1A\u001b[0J  \u001b[34;1m-\u001b[39;22m \u001b[39mInstalling \u001b[39m\u001b[36mpydantic\u001b[39m\u001b[39m (\u001b[39m\u001b[39;1m2.10.6\u001b[39;22m\u001b[39m)\u001b[39m: \u001b[34mInstalling...\u001b[39m\n",
      "  \u001b[32;1m-\u001b[39;22m \u001b[39mInstalling \u001b[39m\u001b[36mstarlette\u001b[39m\u001b[39m (\u001b[39m\u001b[32m0.45.3\u001b[39m\u001b[39m)\u001b[39m\n",
      "\u001b[2A\u001b[0J  \u001b[32;1m-\u001b[39;22m \u001b[39mInstalling \u001b[39m\u001b[36mstarlette\u001b[39m\u001b[39m (\u001b[39m\u001b[32m0.45.3\u001b[39m\u001b[39m)\u001b[39m\n",
      "\u001b[1A\u001b[0J  \u001b[32;1m-\u001b[39;22m \u001b[39mInstalling \u001b[39m\u001b[36mpydantic\u001b[39m\u001b[39m (\u001b[39m\u001b[32m2.10.6\u001b[39m\u001b[39m)\u001b[39m\n",
      "  \u001b[32;1m-\u001b[39;22m \u001b[39mInstalling \u001b[39m\u001b[36mstarlette\u001b[39m\u001b[39m (\u001b[39m\u001b[32m0.45.3\u001b[39m\u001b[39m)\u001b[39m\n",
      "  \u001b[34;1m-\u001b[39;22m \u001b[39mInstalling \u001b[39m\u001b[36mfastapi\u001b[39m\u001b[39m (\u001b[39m\u001b[39;1m0.115.8\u001b[39;22m\u001b[39m)\u001b[39m: \u001b[34mPending...\u001b[39m\n",
      "  \u001b[34;1m-\u001b[39;22m \u001b[39mInstalling \u001b[39m\u001b[36mredis\u001b[39m\u001b[39m (\u001b[39m\u001b[39;1m5.2.1\u001b[39;22m\u001b[39m)\u001b[39m: \u001b[34mPending...\u001b[39m\n",
      "  \u001b[34;1m-\u001b[39;22m \u001b[39mInstalling \u001b[39m\u001b[36muvicorn\u001b[39m\u001b[39m (\u001b[39m\u001b[39;1m0.34.0\u001b[39;22m\u001b[39m)\u001b[39m: \u001b[34mPending...\u001b[39m\n",
      "\u001b[3A\u001b[0J  \u001b[34;1m-\u001b[39;22m \u001b[39mInstalling \u001b[39m\u001b[36mredis\u001b[39m\u001b[39m (\u001b[39m\u001b[39;1m5.2.1\u001b[39;22m\u001b[39m)\u001b[39m: \u001b[34mPending...\u001b[39m\n",
      "  \u001b[34;1m-\u001b[39;22m \u001b[39mInstalling \u001b[39m\u001b[36muvicorn\u001b[39m\u001b[39m (\u001b[39m\u001b[39;1m0.34.0\u001b[39;22m\u001b[39m)\u001b[39m: \u001b[34mPending...\u001b[39m\n",
      "\u001b[2A\u001b[0J  \u001b[34;1m-\u001b[39;22m \u001b[39mInstalling \u001b[39m\u001b[36mfastapi\u001b[39m\u001b[39m (\u001b[39m\u001b[39;1m0.115.8\u001b[39;22m\u001b[39m)\u001b[39m: \u001b[34mInstalling...\u001b[39m\n",
      "  \u001b[34;1m-\u001b[39;22m \u001b[39mInstalling \u001b[39m\u001b[36mredis\u001b[39m\u001b[39m (\u001b[39m\u001b[39;1m5.2.1\u001b[39;22m\u001b[39m)\u001b[39m: \u001b[34mPending...\u001b[39m\n",
      "  \u001b[34;1m-\u001b[39;22m \u001b[39mInstalling \u001b[39m\u001b[36muvicorn\u001b[39m\u001b[39m (\u001b[39m\u001b[39;1m0.34.0\u001b[39;22m\u001b[39m)\u001b[39m: \u001b[34mPending...\u001b[39m\n",
      "\u001b[3A\u001b[0J  \u001b[34;1m-\u001b[39;22m \u001b[39mInstalling \u001b[39m\u001b[36mredis\u001b[39m\u001b[39m (\u001b[39m\u001b[39;1m5.2.1\u001b[39;22m\u001b[39m)\u001b[39m: \u001b[34mPending...\u001b[39m\n",
      "  \u001b[34;1m-\u001b[39;22m \u001b[39mInstalling \u001b[39m\u001b[36muvicorn\u001b[39m\u001b[39m (\u001b[39m\u001b[39;1m0.34.0\u001b[39;22m\u001b[39m)\u001b[39m: \u001b[34mPending...\u001b[39m\n",
      "\u001b[2A\u001b[0J  \u001b[32;1m-\u001b[39;22m \u001b[39mInstalling \u001b[39m\u001b[36mfastapi\u001b[39m\u001b[39m (\u001b[39m\u001b[32m0.115.8\u001b[39m\u001b[39m)\u001b[39m\n",
      "  \u001b[34;1m-\u001b[39;22m \u001b[39mInstalling \u001b[39m\u001b[36mredis\u001b[39m\u001b[39m (\u001b[39m\u001b[39;1m5.2.1\u001b[39;22m\u001b[39m)\u001b[39m: \u001b[34mPending...\u001b[39m\n",
      "  \u001b[34;1m-\u001b[39;22m \u001b[39mInstalling \u001b[39m\u001b[36muvicorn\u001b[39m\u001b[39m (\u001b[39m\u001b[39;1m0.34.0\u001b[39;22m\u001b[39m)\u001b[39m: \u001b[34mPending...\u001b[39m\n",
      "\u001b[1A\u001b[0J  \u001b[34;1m-\u001b[39;22m \u001b[39mInstalling \u001b[39m\u001b[36muvicorn\u001b[39m\u001b[39m (\u001b[39m\u001b[39;1m0.34.0\u001b[39;22m\u001b[39m)\u001b[39m: \u001b[34mInstalling...\u001b[39m\n",
      "\u001b[1A\u001b[0J  \u001b[32;1m-\u001b[39;22m \u001b[39mInstalling \u001b[39m\u001b[36muvicorn\u001b[39m\u001b[39m (\u001b[39m\u001b[32m0.34.0\u001b[39m\u001b[39m)\u001b[39m\n",
      "\u001b[2A\u001b[0J  \u001b[32;1m-\u001b[39;22m \u001b[39mInstalling \u001b[39m\u001b[36muvicorn\u001b[39m\u001b[39m (\u001b[39m\u001b[32m0.34.0\u001b[39m\u001b[39m)\u001b[39m\n",
      "\u001b[1A\u001b[0J  \u001b[34;1m-\u001b[39;22m \u001b[39mInstalling \u001b[39m\u001b[36mredis\u001b[39m\u001b[39m (\u001b[39m\u001b[39;1m5.2.1\u001b[39;22m\u001b[39m)\u001b[39m: \u001b[34mInstalling...\u001b[39m\n",
      "  \u001b[32;1m-\u001b[39;22m \u001b[39mInstalling \u001b[39m\u001b[36muvicorn\u001b[39m\u001b[39m (\u001b[39m\u001b[32m0.34.0\u001b[39m\u001b[39m)\u001b[39m\n",
      "\u001b[2A\u001b[0J  \u001b[32;1m-\u001b[39;22m \u001b[39mInstalling \u001b[39m\u001b[36muvicorn\u001b[39m\u001b[39m (\u001b[39m\u001b[32m0.34.0\u001b[39m\u001b[39m)\u001b[39m\n",
      "\u001b[1A\u001b[0J  \u001b[32;1m-\u001b[39;22m \u001b[39mInstalling \u001b[39m\u001b[36mredis\u001b[39m\u001b[39m (\u001b[39m\u001b[32m5.2.1\u001b[39m\u001b[39m)\u001b[39m\n",
      "  \u001b[32;1m-\u001b[39;22m \u001b[39mInstalling \u001b[39m\u001b[36muvicorn\u001b[39m\u001b[39m (\u001b[39m\u001b[32m0.34.0\u001b[39m\u001b[39m)\u001b[39m\n",
      "\n",
      "\u001b[34mWriting lock file\u001b[39m\n"
     ]
    }
   ],
   "source": [
    "# Adicionando as depedências:\n",
    "!poetry add fastapi uvicorn redis pydantic"
   ]
  },
  {
   "cell_type": "code",
   "execution_count": 6,
   "metadata": {},
   "outputs": [],
   "source": [
    "!open pyproject.toml"
   ]
  },
  {
   "cell_type": "code",
   "execution_count": 7,
   "metadata": {},
   "outputs": [],
   "source": [
    "!docker-compose up --build"
   ]
  },
  {
   "cell_type": "code",
   "execution_count": 8,
   "metadata": {},
   "outputs": [
    {
     "name": "stdout",
     "output_type": "stream",
     "text": [
      "zsh:1: command not found: create\n"
     ]
    }
   ],
   "source": [
    "! create app/database.py"
   ]
  },
  {
   "cell_type": "code",
   "execution_count": 9,
   "metadata": {},
   "outputs": [
    {
     "name": "stdout",
     "output_type": "stream",
     "text": [
      "/Users/lucasfreitasdeoliveira/Library/Python/3.9/lib/python/site-packages/urllib3/__init__.py:34: NotOpenSSLWarning: urllib3 v2 only supports OpenSSL 1.1.1+, currently the 'ssl' module is compiled with 'LibreSSL 2.8.3'. See: https://github.com/urllib3/urllib3/issues/3020\n",
      "  warnings.warn(\n",
      "Using version \u001b[39;1m^5.2.1\u001b[39;22m for \u001b[36mredis\u001b[39m\n",
      "\n",
      "\u001b[34mUpdating dependencies\u001b[39m\n",
      "\u001b[2K\u001b[34mResolving dependencies...\u001b[39m \u001b[39;2m(0.1s)\u001b[39;22m\n",
      "\n",
      "No dependencies to install or update\n",
      "\n",
      "\u001b[34mWriting lock file\u001b[39m\n"
     ]
    }
   ],
   "source": [
    "!poetry add \"redis[asyncio]\""
   ]
  },
  {
   "cell_type": "code",
   "execution_count": 10,
   "metadata": {},
   "outputs": [
    {
     "name": "stdout",
     "output_type": "stream",
     "text": [
      "Defaulting to user installation because normal site-packages is not writeable\n",
      "Requirement already satisfied: redis[asyncio] in /Users/lucasfreitasdeoliveira/Library/Python/3.9/lib/python/site-packages (5.2.1)\n",
      "\u001b[33mWARNING: redis 5.2.1 does not provide the extra 'asyncio'\u001b[0m\u001b[33m\n",
      "\u001b[0mRequirement already satisfied: async-timeout>=4.0.3 in /Users/lucasfreitasdeoliveira/Library/Python/3.9/lib/python/site-packages (from redis[asyncio]) (4.0.3)\n",
      "\n",
      "\u001b[1m[\u001b[0m\u001b[34;49mnotice\u001b[0m\u001b[1;39;49m]\u001b[0m\u001b[39;49m A new release of pip is available: \u001b[0m\u001b[31;49m24.0\u001b[0m\u001b[39;49m -> \u001b[0m\u001b[32;49m25.0\u001b[0m\n",
      "\u001b[1m[\u001b[0m\u001b[34;49mnotice\u001b[0m\u001b[1;39;49m]\u001b[0m\u001b[39;49m To update, run: \u001b[0m\u001b[32;49m/Library/Developer/CommandLineTools/usr/bin/python3 -m pip install --upgrade pip\u001b[0m\n"
     ]
    }
   ],
   "source": [
    "!pip install \"redis[asyncio]\""
   ]
  },
  {
   "cell_type": "code",
   "execution_count": 11,
   "metadata": {},
   "outputs": [],
   "source": [
    "# app/database.py\n",
    "import os\n",
    "import redis.asyncio as redis"
   ]
  },
  {
   "cell_type": "code",
   "execution_count": 12,
   "metadata": {},
   "outputs": [],
   "source": [
    "REDIS_URL = os.getenv(\"REDIS_URL\", \"redis://localhost:6379/0\")"
   ]
  },
  {
   "cell_type": "code",
   "execution_count": 13,
   "metadata": {},
   "outputs": [],
   "source": [
    "# Criando um cliente global com pooling\n",
    "redis_client = redis.from_url(REDIS_URL, encoding=\"utf-8\", decode_responses=True)"
   ]
  },
  {
   "cell_type": "code",
   "execution_count": 14,
   "metadata": {},
   "outputs": [],
   "source": [
    "# app/models.py\n",
    "from pydantic import BaseModel, Field\n",
    "from typing import List, Optional\n",
    "from datetime import datetime"
   ]
  },
  {
   "cell_type": "code",
   "execution_count": 15,
   "metadata": {},
   "outputs": [],
   "source": [
    "class Alternative(BaseModel):\n",
    "    option: str  # 'A', 'B', 'C', 'D'\n",
    "    text: str\n",
    "\n",
    "class Question(BaseModel):\n",
    "    question_id: Optional[str] = None\n",
    "    text: str\n",
    "    alternatives: List[Alternative]\n",
    "    correct_option: Optional[str] = None\n",
    "\n",
    "class Quiz(BaseModel):\n",
    "    quiz_id: Optional[str] = None\n",
    "    title: str\n",
    "    questions: List[Question] = []\n",
    "    created_at: datetime = Field(default_factory=datetime.utcnow)"
   ]
  },
  {
   "cell_type": "code",
   "execution_count": 16,
   "metadata": {},
   "outputs": [
    {
     "name": "stdout",
     "output_type": "stream",
     "text": [
      "Defaulting to user installation because normal site-packages is not writeable\n",
      "Requirement already satisfied: fastapi in /Users/lucasfreitasdeoliveira/Library/Python/3.9/lib/python/site-packages (0.115.8)\n",
      "Requirement already satisfied: starlette<0.46.0,>=0.40.0 in /Users/lucasfreitasdeoliveira/Library/Python/3.9/lib/python/site-packages (from fastapi) (0.45.3)\n",
      "Requirement already satisfied: pydantic!=1.8,!=1.8.1,!=2.0.0,!=2.0.1,!=2.1.0,<3.0.0,>=1.7.4 in /Users/lucasfreitasdeoliveira/Library/Python/3.9/lib/python/site-packages (from fastapi) (2.7.4)\n",
      "Requirement already satisfied: typing-extensions>=4.8.0 in /Users/lucasfreitasdeoliveira/Library/Python/3.9/lib/python/site-packages (from fastapi) (4.12.2)\n",
      "Requirement already satisfied: annotated-types>=0.4.0 in /Users/lucasfreitasdeoliveira/Library/Python/3.9/lib/python/site-packages (from pydantic!=1.8,!=1.8.1,!=2.0.0,!=2.0.1,!=2.1.0,<3.0.0,>=1.7.4->fastapi) (0.7.0)\n",
      "Requirement already satisfied: pydantic-core==2.18.4 in /Users/lucasfreitasdeoliveira/Library/Python/3.9/lib/python/site-packages (from pydantic!=1.8,!=1.8.1,!=2.0.0,!=2.0.1,!=2.1.0,<3.0.0,>=1.7.4->fastapi) (2.18.4)\n",
      "Requirement already satisfied: anyio<5,>=3.6.2 in /Users/lucasfreitasdeoliveira/Library/Python/3.9/lib/python/site-packages (from starlette<0.46.0,>=0.40.0->fastapi) (4.4.0)\n",
      "Requirement already satisfied: idna>=2.8 in /Users/lucasfreitasdeoliveira/Library/Python/3.9/lib/python/site-packages (from anyio<5,>=3.6.2->starlette<0.46.0,>=0.40.0->fastapi) (3.6)\n",
      "Requirement already satisfied: sniffio>=1.1 in /Users/lucasfreitasdeoliveira/Library/Python/3.9/lib/python/site-packages (from anyio<5,>=3.6.2->starlette<0.46.0,>=0.40.0->fastapi) (1.3.1)\n",
      "Requirement already satisfied: exceptiongroup>=1.0.2 in /Users/lucasfreitasdeoliveira/Library/Python/3.9/lib/python/site-packages (from anyio<5,>=3.6.2->starlette<0.46.0,>=0.40.0->fastapi) (1.2.1)\n",
      "\n",
      "\u001b[1m[\u001b[0m\u001b[34;49mnotice\u001b[0m\u001b[1;39;49m]\u001b[0m\u001b[39;49m A new release of pip is available: \u001b[0m\u001b[31;49m24.0\u001b[0m\u001b[39;49m -> \u001b[0m\u001b[32;49m25.0\u001b[0m\n",
      "\u001b[1m[\u001b[0m\u001b[34;49mnotice\u001b[0m\u001b[1;39;49m]\u001b[0m\u001b[39;49m To update, run: \u001b[0m\u001b[32;49m/Library/Developer/CommandLineTools/usr/bin/python3 -m pip install --upgrade pip\u001b[0m\n"
     ]
    }
   ],
   "source": [
    "!pip install fastapi"
   ]
  },
  {
   "cell_type": "code",
   "execution_count": 17,
   "metadata": {},
   "outputs": [
    {
     "name": "stdout",
     "output_type": "stream",
     "text": [
      "/Users/lucasfreitasdeoliveira/Library/Python/3.9/lib/python/site-packages/urllib3/__init__.py:34: NotOpenSSLWarning: urllib3 v2 only supports OpenSSL 1.1.1+, currently the 'ssl' module is compiled with 'LibreSSL 2.8.3'. See: https://github.com/urllib3/urllib3/issues/3020\n",
      "  warnings.warn(\n",
      "The following packages are already present in the pyproject.toml and will be skipped:\n",
      "\n",
      "  - \u001b[36mfastapi\u001b[39m\n",
      "\n",
      "If you want to update it to the latest compatible version, you can use `poetry update package`.\n",
      "If you prefer to upgrade it to the latest available version, you can use `poetry add package@latest`.\n",
      "\n",
      "Nothing to add.\n"
     ]
    }
   ],
   "source": [
    "!poetry add fastapi"
   ]
  },
  {
   "cell_type": "code",
   "execution_count": 18,
   "metadata": {},
   "outputs": [
    {
     "name": "stdout",
     "output_type": "stream",
     "text": [
      "Defaulting to user installation because normal site-packages is not writeable\n",
      "Requirement already satisfied: typing-extensions in /Users/lucasfreitasdeoliveira/Library/Python/3.9/lib/python/site-packages (4.12.2)\n",
      "\n",
      "\u001b[1m[\u001b[0m\u001b[34;49mnotice\u001b[0m\u001b[1;39;49m]\u001b[0m\u001b[39;49m A new release of pip is available: \u001b[0m\u001b[31;49m24.0\u001b[0m\u001b[39;49m -> \u001b[0m\u001b[32;49m25.0\u001b[0m\n",
      "\u001b[1m[\u001b[0m\u001b[34;49mnotice\u001b[0m\u001b[1;39;49m]\u001b[0m\u001b[39;49m To update, run: \u001b[0m\u001b[32;49m/Library/Developer/CommandLineTools/usr/bin/python3 -m pip install --upgrade pip\u001b[0m\n"
     ]
    }
   ],
   "source": [
    "!pip install --upgrade typing-extensions"
   ]
  },
  {
   "cell_type": "code",
   "execution_count": 19,
   "metadata": {},
   "outputs": [
    {
     "name": "stdout",
     "output_type": "stream",
     "text": [
      "/Users/lucasfreitasdeoliveira/Library/Python/3.9/lib/python/site-packages/urllib3/__init__.py:34: NotOpenSSLWarning: urllib3 v2 only supports OpenSSL 1.1.1+, currently the 'ssl' module is compiled with 'LibreSSL 2.8.3'. See: https://github.com/urllib3/urllib3/issues/3020\n",
      "  warnings.warn(\n",
      "Using version \u001b[39;1m^4.12.2\u001b[39;22m for \u001b[36mtyping-extensions\u001b[39m\n",
      "\n",
      "\u001b[34mUpdating dependencies\u001b[39m\n",
      "\u001b[2K\u001b[34mResolving dependencies...\u001b[39m \u001b[39;2m(0.1s)\u001b[39;22m\n",
      "\n",
      "No dependencies to install or update\n",
      "\n",
      "\u001b[34mWriting lock file\u001b[39m\n"
     ]
    }
   ],
   "source": [
    "!poetry add typing-extensions@latest"
   ]
  },
  {
   "cell_type": "code",
   "execution_count": 20,
   "metadata": {},
   "outputs": [
    {
     "name": "stdout",
     "output_type": "stream",
     "text": [
      "Defaulting to user installation because normal site-packages is not writeable\n",
      "Requirement already satisfied: fastapi in /Users/lucasfreitasdeoliveira/Library/Python/3.9/lib/python/site-packages (0.115.8)\n",
      "Requirement already satisfied: starlette<0.46.0,>=0.40.0 in /Users/lucasfreitasdeoliveira/Library/Python/3.9/lib/python/site-packages (from fastapi) (0.45.3)\n",
      "Requirement already satisfied: pydantic!=1.8,!=1.8.1,!=2.0.0,!=2.0.1,!=2.1.0,<3.0.0,>=1.7.4 in /Users/lucasfreitasdeoliveira/Library/Python/3.9/lib/python/site-packages (from fastapi) (2.7.4)\n",
      "Requirement already satisfied: typing-extensions>=4.8.0 in /Users/lucasfreitasdeoliveira/Library/Python/3.9/lib/python/site-packages (from fastapi) (4.12.2)\n",
      "Requirement already satisfied: annotated-types>=0.4.0 in /Users/lucasfreitasdeoliveira/Library/Python/3.9/lib/python/site-packages (from pydantic!=1.8,!=1.8.1,!=2.0.0,!=2.0.1,!=2.1.0,<3.0.0,>=1.7.4->fastapi) (0.7.0)\n",
      "Requirement already satisfied: pydantic-core==2.18.4 in /Users/lucasfreitasdeoliveira/Library/Python/3.9/lib/python/site-packages (from pydantic!=1.8,!=1.8.1,!=2.0.0,!=2.0.1,!=2.1.0,<3.0.0,>=1.7.4->fastapi) (2.18.4)\n",
      "Requirement already satisfied: anyio<5,>=3.6.2 in /Users/lucasfreitasdeoliveira/Library/Python/3.9/lib/python/site-packages (from starlette<0.46.0,>=0.40.0->fastapi) (4.4.0)\n",
      "Requirement already satisfied: idna>=2.8 in /Users/lucasfreitasdeoliveira/Library/Python/3.9/lib/python/site-packages (from anyio<5,>=3.6.2->starlette<0.46.0,>=0.40.0->fastapi) (3.6)\n",
      "Requirement already satisfied: sniffio>=1.1 in /Users/lucasfreitasdeoliveira/Library/Python/3.9/lib/python/site-packages (from anyio<5,>=3.6.2->starlette<0.46.0,>=0.40.0->fastapi) (1.3.1)\n",
      "Requirement already satisfied: exceptiongroup>=1.0.2 in /Users/lucasfreitasdeoliveira/Library/Python/3.9/lib/python/site-packages (from anyio<5,>=3.6.2->starlette<0.46.0,>=0.40.0->fastapi) (1.2.1)\n",
      "\n",
      "\u001b[1m[\u001b[0m\u001b[34;49mnotice\u001b[0m\u001b[1;39;49m]\u001b[0m\u001b[39;49m A new release of pip is available: \u001b[0m\u001b[31;49m24.0\u001b[0m\u001b[39;49m -> \u001b[0m\u001b[32;49m25.0\u001b[0m\n",
      "\u001b[1m[\u001b[0m\u001b[34;49mnotice\u001b[0m\u001b[1;39;49m]\u001b[0m\u001b[39;49m To update, run: \u001b[0m\u001b[32;49m/Library/Developer/CommandLineTools/usr/bin/python3 -m pip install --upgrade pip\u001b[0m\n"
     ]
    }
   ],
   "source": [
    "!pip install --upgrade fastapi"
   ]
  },
  {
   "cell_type": "code",
   "execution_count": 21,
   "metadata": {},
   "outputs": [
    {
     "name": "stdout",
     "output_type": "stream",
     "text": [
      "/Users/lucasfreitasdeoliveira/Library/Python/3.9/lib/python/site-packages/urllib3/__init__.py:34: NotOpenSSLWarning: urllib3 v2 only supports OpenSSL 1.1.1+, currently the 'ssl' module is compiled with 'LibreSSL 2.8.3'. See: https://github.com/urllib3/urllib3/issues/3020\n",
      "  warnings.warn(\n",
      "Using version \u001b[39;1m^0.115.8\u001b[39;22m for \u001b[36mfastapi\u001b[39m\n",
      "\n",
      "\u001b[34mUpdating dependencies\u001b[39m\n",
      "\u001b[2K\u001b[34mResolving dependencies...\u001b[39m \u001b[39;2m(0.1s)\u001b[39;22m\n",
      "\n",
      "No dependencies to install or update\n"
     ]
    }
   ],
   "source": [
    "!poetry add fastapi@latest"
   ]
  },
  {
   "cell_type": "code",
   "execution_count": 22,
   "metadata": {},
   "outputs": [
    {
     "name": "stdout",
     "output_type": "stream",
     "text": [
      "zsh:1: command not found: python\n"
     ]
    }
   ],
   "source": [
    "!python -m app.main"
   ]
  },
  {
   "cell_type": "code",
   "execution_count": 23,
   "metadata": {},
   "outputs": [],
   "source": [
    "import sys\n",
    "sys.path.append(\"..\")"
   ]
  },
  {
   "cell_type": "code",
   "execution_count": 25,
   "metadata": {},
   "outputs": [
    {
     "name": "stdout",
     "output_type": "stream",
     "text": [
      "/Users/lucasfreitasdeoliveira/Documents/Cursos/FIAP/projeto_redis/projeto_quiz/app/models.py\n"
     ]
    }
   ],
   "source": [
    "import app.models\n",
    "print(app.models.__file__)"
   ]
  },
  {
   "cell_type": "code",
   "execution_count": 26,
   "metadata": {},
   "outputs": [],
   "source": [
    "import sys\n",
    "sys.path.append(\"/Users/lucasfreitasdeoliveira/Documents/Cursos/FIAP/projeto_redis/projeto_quiz\")"
   ]
  },
  {
   "cell_type": "code",
   "execution_count": 27,
   "metadata": {},
   "outputs": [
    {
     "name": "stdout",
     "output_type": "stream",
     "text": [
      "Name: typing_extensions\n",
      "Version: 4.12.2\n",
      "Summary: Backported and Experimental Type Hints for Python 3.8+\n",
      "Home-page: \n",
      "Author: \n",
      "Author-email: \"Guido van Rossum, Jukka Lehtosalo, Łukasz Langa, Michael Lee\" <levkivskyi@gmail.com>\n",
      "License: \n",
      "Location: /Users/lucasfreitasdeoliveira/Library/Python/3.9/lib/python/site-packages\n",
      "Requires: \n",
      "Required-by: altair, anyio, fastapi, huggingface-hub, ipython, openai, pydantic, pydantic_core, SQLAlchemy, starlette, streamlit, typing-inspect\n"
     ]
    }
   ],
   "source": [
    "!pip show typing-extensions"
   ]
  },
  {
   "cell_type": "code",
   "execution_count": 28,
   "metadata": {},
   "outputs": [
    {
     "name": "stdout",
     "output_type": "stream",
     "text": [
      "zsh: bad option string: '-m pip install --upgrade pip'\n"
     ]
    }
   ],
   "source": [
    "!-m pip install --upgrade pip"
   ]
  },
  {
   "cell_type": "code",
   "execution_count": 29,
   "metadata": {},
   "outputs": [
    {
     "name": "stdout",
     "output_type": "stream",
     "text": [
      "Name: fastapi\n",
      "Version: 0.115.8\n",
      "Summary: FastAPI framework, high performance, easy to learn, fast to code, ready for production\n",
      "Home-page: \n",
      "Author: \n",
      "Author-email: =?utf-8?q?Sebasti=C3=A1n_Ram=C3=ADrez?= <tiangolo@gmail.com>\n",
      "License: \n",
      "Location: /Users/lucasfreitasdeoliveira/Library/Python/3.9/lib/python/site-packages\n",
      "Requires: pydantic, starlette, typing-extensions\n",
      "Required-by: \n"
     ]
    }
   ],
   "source": [
    "!pip show fastapi"
   ]
  },
  {
   "cell_type": "code",
   "execution_count": 62,
   "metadata": {},
   "outputs": [
    {
     "name": "stdout",
     "output_type": "stream",
     "text": [
      "/Users/lucasfreitasdeoliveira/Library/Python/3.9/lib/python/site-packages/urllib3/__init__.py:34: NotOpenSSLWarning: urllib3 v2 only supports OpenSSL 1.1.1+, currently the 'ssl' module is compiled with 'LibreSSL 2.8.3'. See: https://github.com/urllib3/urllib3/issues/3020\n",
      "  warnings.warn(\n",
      "\u001b[34mUpdating dependencies\u001b[39m\n",
      "\u001b[2K\u001b[34mResolving dependencies...\u001b[39m \u001b[39;2m(0.2s)\u001b[39;22m\n",
      "\n",
      "\u001b[39;1mPackage operations\u001b[39;22m: \u001b[34m0\u001b[39m installs, \u001b[34m0\u001b[39m updates, \u001b[34m6\u001b[39m removals\n",
      "\n",
      "  \u001b[34;1m-\u001b[39;22m \u001b[39mRemoving \u001b[39m\u001b[36manyio\u001b[39m\u001b[39m (\u001b[39m\u001b[39;1m4.8.0\u001b[39;22m\u001b[39m)\u001b[39m: \u001b[34mPending...\u001b[39m\n",
      "\u001b[1A\u001b[0J  \u001b[34;1m-\u001b[39;22m \u001b[39mRemoving \u001b[39m\u001b[36manyio\u001b[39m\u001b[39m (\u001b[39m\u001b[39;1m4.8.0\u001b[39;22m\u001b[39m)\u001b[39m: \u001b[34mRemoving...\u001b[39m\n",
      "\u001b[1A\u001b[0J  \u001b[32;1m-\u001b[39;22m \u001b[39mRemoving \u001b[39m\u001b[36manyio\u001b[39m\u001b[39m (\u001b[39m\u001b[32m4.8.0\u001b[39m\u001b[39m)\u001b[39m\n",
      "  \u001b[34;1m-\u001b[39;22m \u001b[39mRemoving \u001b[39m\u001b[36mexceptiongroup\u001b[39m\u001b[39m (\u001b[39m\u001b[39;1m1.2.2\u001b[39;22m\u001b[39m)\u001b[39m: \u001b[34mPending...\u001b[39m\n",
      "\u001b[1A\u001b[0J  \u001b[34;1m-\u001b[39;22m \u001b[39mRemoving \u001b[39m\u001b[36mexceptiongroup\u001b[39m\u001b[39m (\u001b[39m\u001b[39;1m1.2.2\u001b[39;22m\u001b[39m)\u001b[39m: \u001b[34mRemoving...\u001b[39m\n",
      "\u001b[1A\u001b[0J  \u001b[32;1m-\u001b[39;22m \u001b[39mRemoving \u001b[39m\u001b[36mexceptiongroup\u001b[39m\u001b[39m (\u001b[39m\u001b[32m1.2.2\u001b[39m\u001b[39m)\u001b[39m\n",
      "  \u001b[34;1m-\u001b[39;22m \u001b[39mRemoving \u001b[39m\u001b[36mfastapi\u001b[39m\u001b[39m (\u001b[39m\u001b[39;1m0.115.8\u001b[39;22m\u001b[39m)\u001b[39m: \u001b[34mPending...\u001b[39m\n",
      "\u001b[1A\u001b[0J  \u001b[34;1m-\u001b[39;22m \u001b[39mRemoving \u001b[39m\u001b[36mfastapi\u001b[39m\u001b[39m (\u001b[39m\u001b[39;1m0.115.8\u001b[39;22m\u001b[39m)\u001b[39m: \u001b[34mRemoving...\u001b[39m\n",
      "\u001b[1A\u001b[0J  \u001b[32;1m-\u001b[39;22m \u001b[39mRemoving \u001b[39m\u001b[36mfastapi\u001b[39m\u001b[39m (\u001b[39m\u001b[32m0.115.8\u001b[39m\u001b[39m)\u001b[39m\n",
      "  \u001b[34;1m-\u001b[39;22m \u001b[39mRemoving \u001b[39m\u001b[36midna\u001b[39m\u001b[39m (\u001b[39m\u001b[39;1m3.10\u001b[39;22m\u001b[39m)\u001b[39m: \u001b[34mPending...\u001b[39m\n",
      "\u001b[1A\u001b[0J  \u001b[34;1m-\u001b[39;22m \u001b[39mRemoving \u001b[39m\u001b[36midna\u001b[39m\u001b[39m (\u001b[39m\u001b[39;1m3.10\u001b[39;22m\u001b[39m)\u001b[39m: \u001b[34mRemoving...\u001b[39m\n",
      "\u001b[1A\u001b[0J  \u001b[32;1m-\u001b[39;22m \u001b[39mRemoving \u001b[39m\u001b[36midna\u001b[39m\u001b[39m (\u001b[39m\u001b[32m3.10\u001b[39m\u001b[39m)\u001b[39m\n",
      "  \u001b[34;1m-\u001b[39;22m \u001b[39mRemoving \u001b[39m\u001b[36msniffio\u001b[39m\u001b[39m (\u001b[39m\u001b[39;1m1.3.1\u001b[39;22m\u001b[39m)\u001b[39m: \u001b[34mPending...\u001b[39m\n",
      "\u001b[1A\u001b[0J  \u001b[34;1m-\u001b[39;22m \u001b[39mRemoving \u001b[39m\u001b[36msniffio\u001b[39m\u001b[39m (\u001b[39m\u001b[39;1m1.3.1\u001b[39;22m\u001b[39m)\u001b[39m: \u001b[34mRemoving...\u001b[39m\n",
      "\u001b[1A\u001b[0J  \u001b[32;1m-\u001b[39;22m \u001b[39mRemoving \u001b[39m\u001b[36msniffio\u001b[39m\u001b[39m (\u001b[39m\u001b[32m1.3.1\u001b[39m\u001b[39m)\u001b[39m\n",
      "  \u001b[34;1m-\u001b[39;22m \u001b[39mRemoving \u001b[39m\u001b[36mstarlette\u001b[39m\u001b[39m (\u001b[39m\u001b[39;1m0.45.3\u001b[39;22m\u001b[39m)\u001b[39m: \u001b[34mPending...\u001b[39m\n",
      "\u001b[1A\u001b[0J  \u001b[34;1m-\u001b[39;22m \u001b[39mRemoving \u001b[39m\u001b[36mstarlette\u001b[39m\u001b[39m (\u001b[39m\u001b[39;1m0.45.3\u001b[39;22m\u001b[39m)\u001b[39m: \u001b[34mRemoving...\u001b[39m\n",
      "\u001b[1A\u001b[0J  \u001b[32;1m-\u001b[39;22m \u001b[39mRemoving \u001b[39m\u001b[36mstarlette\u001b[39m\u001b[39m (\u001b[39m\u001b[32m0.45.3\u001b[39m\u001b[39m)\u001b[39m\n",
      "\n",
      "\u001b[34mWriting lock file\u001b[39m\n",
      "/Users/lucasfreitasdeoliveira/Library/Python/3.9/lib/python/site-packages/urllib3/__init__.py:34: NotOpenSSLWarning: urllib3 v2 only supports OpenSSL 1.1.1+, currently the 'ssl' module is compiled with 'LibreSSL 2.8.3'. See: https://github.com/urllib3/urllib3/issues/3020\n",
      "  warnings.warn(\n",
      "Using version \u001b[39;1m^0.115.8\u001b[39;22m for \u001b[36mfastapi\u001b[39m\n",
      "Using version \u001b[39;1m^4.12.2\u001b[39;22m for \u001b[36mtyping-extensions\u001b[39m\n",
      "\n",
      "\u001b[34mUpdating dependencies\u001b[39m\n",
      "\u001b[2K\u001b[34mResolving dependencies...\u001b[39m \u001b[39;2m(6.6s)\u001b[39;22m\u001b[34mResolving dependencies...\u001b[39m \u001b[39;2m(0.9s)\u001b[39;22m\u001b[34mResolving dependencies...\u001b[39m \u001b[39;2m(4.7s)\u001b[39;22m\n",
      "\n",
      "\u001b[39;1mPackage operations\u001b[39;22m: \u001b[34m6\u001b[39m installs, \u001b[34m0\u001b[39m updates, \u001b[34m0\u001b[39m removals\n",
      "\n",
      "  \u001b[34;1m-\u001b[39;22m \u001b[39mInstalling \u001b[39m\u001b[36mexceptiongroup\u001b[39m\u001b[39m (\u001b[39m\u001b[39;1m1.2.2\u001b[39;22m\u001b[39m)\u001b[39m: \u001b[34mPending...\u001b[39m\n",
      "  \u001b[34;1m-\u001b[39;22m \u001b[39mInstalling \u001b[39m\u001b[36midna\u001b[39m\u001b[39m (\u001b[39m\u001b[39;1m3.10\u001b[39;22m\u001b[39m)\u001b[39m: \u001b[34mPending...\u001b[39m\n",
      "  \u001b[34;1m-\u001b[39;22m \u001b[39mInstalling \u001b[39m\u001b[36msniffio\u001b[39m\u001b[39m (\u001b[39m\u001b[39;1m1.3.1\u001b[39;22m\u001b[39m)\u001b[39m: \u001b[34mPending...\u001b[39m\n",
      "\u001b[2A\u001b[0J  \u001b[34;1m-\u001b[39;22m \u001b[39mInstalling \u001b[39m\u001b[36msniffio\u001b[39m\u001b[39m (\u001b[39m\u001b[39;1m1.3.1\u001b[39;22m\u001b[39m)\u001b[39m: \u001b[34mPending...\u001b[39m\n",
      "\u001b[1A\u001b[0J  \u001b[34;1m-\u001b[39;22m \u001b[39mInstalling \u001b[39m\u001b[36midna\u001b[39m\u001b[39m (\u001b[39m\u001b[39;1m3.10\u001b[39;22m\u001b[39m)\u001b[39m: \u001b[34mInstalling...\u001b[39m\n",
      "  \u001b[34;1m-\u001b[39;22m \u001b[39mInstalling \u001b[39m\u001b[36msniffio\u001b[39m\u001b[39m (\u001b[39m\u001b[39;1m1.3.1\u001b[39;22m\u001b[39m)\u001b[39m: \u001b[34mPending...\u001b[39m\n",
      "\u001b[2A\u001b[0J  \u001b[34;1m-\u001b[39;22m \u001b[39mInstalling \u001b[39m\u001b[36msniffio\u001b[39m\u001b[39m (\u001b[39m\u001b[39;1m1.3.1\u001b[39;22m\u001b[39m)\u001b[39m: \u001b[34mPending...\u001b[39m\n",
      "\u001b[1A\u001b[0J  \u001b[32;1m-\u001b[39;22m \u001b[39mInstalling \u001b[39m\u001b[36midna\u001b[39m\u001b[39m (\u001b[39m\u001b[32m3.10\u001b[39m\u001b[39m)\u001b[39m\n",
      "  \u001b[34;1m-\u001b[39;22m \u001b[39mInstalling \u001b[39m\u001b[36msniffio\u001b[39m\u001b[39m (\u001b[39m\u001b[39;1m1.3.1\u001b[39;22m\u001b[39m)\u001b[39m: \u001b[34mPending...\u001b[39m\n",
      "\u001b[1A\u001b[0J  \u001b[34;1m-\u001b[39;22m \u001b[39mInstalling \u001b[39m\u001b[36msniffio\u001b[39m\u001b[39m (\u001b[39m\u001b[39;1m1.3.1\u001b[39;22m\u001b[39m)\u001b[39m: \u001b[34mInstalling...\u001b[39m\n",
      "\u001b[3A\u001b[0J  \u001b[32;1m-\u001b[39;22m \u001b[39mInstalling \u001b[39m\u001b[36midna\u001b[39m\u001b[39m (\u001b[39m\u001b[32m3.10\u001b[39m\u001b[39m)\u001b[39m\n",
      "  \u001b[34;1m-\u001b[39;22m \u001b[39mInstalling \u001b[39m\u001b[36msniffio\u001b[39m\u001b[39m (\u001b[39m\u001b[39;1m1.3.1\u001b[39;22m\u001b[39m)\u001b[39m: \u001b[34mInstalling...\u001b[39m\n",
      "\u001b[2A\u001b[0J  \u001b[34;1m-\u001b[39;22m \u001b[39mInstalling \u001b[39m\u001b[36mexceptiongroup\u001b[39m\u001b[39m (\u001b[39m\u001b[39;1m1.2.2\u001b[39;22m\u001b[39m)\u001b[39m: \u001b[34mInstalling...\u001b[39m\n",
      "  \u001b[32;1m-\u001b[39;22m \u001b[39mInstalling \u001b[39m\u001b[36midna\u001b[39m\u001b[39m (\u001b[39m\u001b[32m3.10\u001b[39m\u001b[39m)\u001b[39m\n",
      "  \u001b[34;1m-\u001b[39;22m \u001b[39mInstalling \u001b[39m\u001b[36msniffio\u001b[39m\u001b[39m (\u001b[39m\u001b[39;1m1.3.1\u001b[39;22m\u001b[39m)\u001b[39m: \u001b[34mInstalling...\u001b[39m\n",
      "\u001b[1A\u001b[0J  \u001b[32;1m-\u001b[39;22m \u001b[39mInstalling \u001b[39m\u001b[36msniffio\u001b[39m\u001b[39m (\u001b[39m\u001b[32m1.3.1\u001b[39m\u001b[39m)\u001b[39m\n",
      "\u001b[3A\u001b[0J  \u001b[32;1m-\u001b[39;22m \u001b[39mInstalling \u001b[39m\u001b[36midna\u001b[39m\u001b[39m (\u001b[39m\u001b[32m3.10\u001b[39m\u001b[39m)\u001b[39m\n",
      "  \u001b[32;1m-\u001b[39;22m \u001b[39mInstalling \u001b[39m\u001b[36msniffio\u001b[39m\u001b[39m (\u001b[39m\u001b[32m1.3.1\u001b[39m\u001b[39m)\u001b[39m\n",
      "\u001b[2A\u001b[0J  \u001b[32;1m-\u001b[39;22m \u001b[39mInstalling \u001b[39m\u001b[36mexceptiongroup\u001b[39m\u001b[39m (\u001b[39m\u001b[32m1.2.2\u001b[39m\u001b[39m)\u001b[39m\n",
      "  \u001b[32;1m-\u001b[39;22m \u001b[39mInstalling \u001b[39m\u001b[36midna\u001b[39m\u001b[39m (\u001b[39m\u001b[32m3.10\u001b[39m\u001b[39m)\u001b[39m\n",
      "  \u001b[32;1m-\u001b[39;22m \u001b[39mInstalling \u001b[39m\u001b[36msniffio\u001b[39m\u001b[39m (\u001b[39m\u001b[32m1.3.1\u001b[39m\u001b[39m)\u001b[39m\n",
      "  \u001b[34;1m-\u001b[39;22m \u001b[39mInstalling \u001b[39m\u001b[36manyio\u001b[39m\u001b[39m (\u001b[39m\u001b[39;1m4.8.0\u001b[39;22m\u001b[39m)\u001b[39m: \u001b[34mPending...\u001b[39m\n",
      "\u001b[1A\u001b[0J  \u001b[34;1m-\u001b[39;22m \u001b[39mInstalling \u001b[39m\u001b[36manyio\u001b[39m\u001b[39m (\u001b[39m\u001b[39;1m4.8.0\u001b[39;22m\u001b[39m)\u001b[39m: \u001b[34mInstalling...\u001b[39m\n",
      "\u001b[1A\u001b[0J  \u001b[32;1m-\u001b[39;22m \u001b[39mInstalling \u001b[39m\u001b[36manyio\u001b[39m\u001b[39m (\u001b[39m\u001b[32m4.8.0\u001b[39m\u001b[39m)\u001b[39m\n",
      "  \u001b[34;1m-\u001b[39;22m \u001b[39mInstalling \u001b[39m\u001b[36mstarlette\u001b[39m\u001b[39m (\u001b[39m\u001b[39;1m0.45.3\u001b[39;22m\u001b[39m)\u001b[39m: \u001b[34mPending...\u001b[39m\n",
      "\u001b[1A\u001b[0J  \u001b[34;1m-\u001b[39;22m \u001b[39mInstalling \u001b[39m\u001b[36mstarlette\u001b[39m\u001b[39m (\u001b[39m\u001b[39;1m0.45.3\u001b[39;22m\u001b[39m)\u001b[39m: \u001b[34mInstalling...\u001b[39m\n",
      "\u001b[1A\u001b[0J  \u001b[32;1m-\u001b[39;22m \u001b[39mInstalling \u001b[39m\u001b[36mstarlette\u001b[39m\u001b[39m (\u001b[39m\u001b[32m0.45.3\u001b[39m\u001b[39m)\u001b[39m\n",
      "  \u001b[34;1m-\u001b[39;22m \u001b[39mInstalling \u001b[39m\u001b[36mfastapi\u001b[39m\u001b[39m (\u001b[39m\u001b[39;1m0.115.8\u001b[39;22m\u001b[39m)\u001b[39m: \u001b[34mPending...\u001b[39m\n",
      "\u001b[1A\u001b[0J  \u001b[34;1m-\u001b[39;22m \u001b[39mInstalling \u001b[39m\u001b[36mfastapi\u001b[39m\u001b[39m (\u001b[39m\u001b[39;1m0.115.8\u001b[39;22m\u001b[39m)\u001b[39m: \u001b[34mInstalling...\u001b[39m\n",
      "\u001b[1A\u001b[0J  \u001b[32;1m-\u001b[39;22m \u001b[39mInstalling \u001b[39m\u001b[36mfastapi\u001b[39m\u001b[39m (\u001b[39m\u001b[32m0.115.8\u001b[39m\u001b[39m)\u001b[39m\n",
      "\n",
      "\u001b[34mWriting lock file\u001b[39m\n"
     ]
    }
   ],
   "source": [
    "!poetry remove fastapi typing-extensions\n",
    "!poetry add fastapi typing-extensions@latest"
   ]
  },
  {
   "cell_type": "code",
   "execution_count": 65,
   "metadata": {},
   "outputs": [
    {
     "name": "stdout",
     "output_type": "stream",
     "text": [
      "zsh:source:1: no such file or directory: venv/bin/activate\n"
     ]
    }
   ],
   "source": [
    "!source venv/bin/activate"
   ]
  },
  {
   "cell_type": "code",
   "execution_count": 66,
   "metadata": {},
   "outputs": [],
   "source": [
    "# app/main.py\n",
    "import uuid\n",
    "import json\n",
    "from datetime import timedelta\n",
    "from app.models import Quiz, Question, Alternative\n",
    "from app.database import redis_client\n",
    "from pydantic import BaseModel\n",
    "from fastapi import FastAPI, HTTPException"
   ]
  },
  {
   "cell_type": "code",
   "execution_count": 71,
   "metadata": {},
   "outputs": [],
   "source": [
    "app = FastAPI()\n",
    "\n",
    "# Tempo de expiração para 30 dias (em segundos)\n",
    "TTL_30_DAYS = 30 * 24 * 3600\n",
    "\n",
    "# -----------------------------------------------------------------------------\n",
    "# Endpoint para criar um Quiz\n",
    "@app.post(\"/quiz\", response_model=Quiz)\n",
    "async def create_quiz(quiz: Quiz):\n",
    "    if not quiz.quiz_id:\n",
    "        quiz.quiz_id = str(uuid.uuid4())\n",
    "    key = f\"quiz:{quiz.quiz_id}\"\n",
    "    await redis_client.set(key, quiz.json(), ex=TTL_30_DAYS)\n",
    "    return quiz"
   ]
  },
  {
   "cell_type": "code",
   "execution_count": 72,
   "metadata": {},
   "outputs": [],
   "source": [
    "# -----------------------------------------------------------------------------\n",
    "# Endpoint para adicionar uma questão ao quiz\n",
    "@app.post(\"/quiz/{quiz_id}/question\", response_model=Question)\n",
    "async def add_question(quiz_id: str, question: Question):\n",
    "    key = f\"quiz:{quiz_id}\"\n",
    "    quiz_data = await redis_client.get(key)\n",
    "    if not quiz_data:\n",
    "        raise HTTPException(status_code=404, detail=\"Quiz not found\")\n",
    "    quiz = Quiz.parse_raw(quiz_data)\n",
    "    if not question.question_id:\n",
    "        question.question_id = str(uuid.uuid4())\n",
    "    quiz.questions.append(question)\n",
    "    await redis_client.set(key, quiz.json(), ex=TTL_30_DAYS)\n",
    "    \n",
    "    # Inicializa contagem de votos para a questão (usando um hash)\n",
    "    vote_key = f\"quiz:{quiz_id}:question:{question.question_id}:votes\"\n",
    "    initial_votes = {\"A\": 0, \"B\": 0, \"C\": 0, \"D\": 0}\n",
    "    await redis_client.hset(vote_key, mapping=initial_votes)\n",
    "    await redis_client.expire(vote_key, TTL_30_DAYS)\n",
    "    \n",
    "    # Criação um set para controlar alunos que já votaram\n",
    "    voted_set_key = f\"quiz:{quiz_id}:question:{question.question_id}:voted\"\n",
    "    # Apenas garante que a chave exista e recebe TTL\n",
    "    await redis_client.delete(voted_set_key)\n",
    "    await redis_client.expire(voted_set_key, TTL_30_DAYS)\n",
    "    \n",
    "    return question"
   ]
  },
  {
   "cell_type": "code",
   "execution_count": 73,
   "metadata": {},
   "outputs": [],
   "source": [
    "# -----------------------------------------------------------------------------\n",
    "# Modelo para o voto\n",
    "class VoteInput(BaseModel):\n",
    "    student_id: str\n",
    "    option: str  # Deve ser 'A', 'B', 'C' ou 'D'\n",
    "    response_time: float  # Tempo em segundos\n",
    "\n",
    "# Endpoint para registrar voto em uma questão\n",
    "@app.post(\"/quiz/{quiz_id}/question/{question_id}/vote\")\n",
    "async def vote(quiz_id: str, question_id: str, vote: VoteInput):\n",
    "    voted_set_key = f\"quiz:{quiz_id}:question:{question_id}:voted\"\n",
    "    # Verifica se o aluno já votou\n",
    "    if await redis_client.sismember(voted_set_key, vote.student_id):\n",
    "        raise HTTPException(status_code=400, detail=\"Student already voted for this question\")\n",
    "    \n",
    "    # Incrementa o contador de votos\n",
    "    vote_key = f\"quiz:{quiz_id}:question:{question_id}:votes\"\n",
    "    if vote.option not in [\"A\", \"B\", \"C\", \"D\"]:\n",
    "        raise HTTPException(status_code=400, detail=\"Invalid option\")\n",
    "    await redis_client.hincrby(vote_key, vote.option, 1)\n",
    "    \n",
    "    # Marca que o aluno votou\n",
    "    await redis_client.sadd(voted_set_key, vote.student_id)\n",
    "    \n",
    "    # Armazena o tempo de resposta em um sorted set para ranking (quanto menor, melhor)\n",
    "    response_time_key = f\"quiz:{quiz_id}:question:{question_id}:response_times\"\n",
    "    await redis_client.zadd(response_time_key, {vote.student_id: vote.response_time})\n",
    "    await redis_client.expire(response_time_key, TTL_30_DAYS)\n",
    "    \n",
    "    return {\"message\": \"Vote recorded\"}"
   ]
  },
  {
   "cell_type": "code",
   "execution_count": 74,
   "metadata": {},
   "outputs": [],
   "source": [
    "# -----------------------------------------------------------------------------\n",
    "# Endpoint para obter resultados de um quiz (contagem de votos por questão)\n",
    "@app.get(\"/quiz/{quiz_id}/results\")\n",
    "async def get_results(quiz_id: str):\n",
    "    key = f\"quiz:{quiz_id}\"\n",
    "    quiz_data = await redis_client.get(key)\n",
    "    if not quiz_data:\n",
    "        raise HTTPException(status_code=404, detail=\"Quiz not found\")\n",
    "    quiz = Quiz.parse_raw(quiz_data)\n",
    "    \n",
    "    results = {}\n",
    "    for question in quiz.questions:\n",
    "        vote_key = f\"quiz:{quiz_id}:question:{question.question_id}:votes\"\n",
    "        vote_counts = await redis_client.hgetall(vote_key)\n",
    "        results[question.question_id] = vote_counts\n",
    "    return {\"quiz_id\": quiz_id, \"results\": results}"
   ]
  },
  {
   "cell_type": "code",
   "execution_count": 75,
   "metadata": {},
   "outputs": [],
   "source": [
    "# -----------------------------------------------------------------------------\n",
    "# Endpoint para obter ranking dos alunos por tempo de resposta em uma questão\n",
    "@app.get(\"/quiz/{quiz_id}/question/{question_id}/ranking\")\n",
    "async def get_question_ranking(quiz_id: str, question_id: str):\n",
    "    response_time_key = f\"quiz:{quiz_id}:question:{question_id}:response_times\"\n",
    "    # Ordena do menor para o maior tempo (alunos mais rápidos primeiro)\n",
    "    ranking = await redis_client.zrange(response_time_key, 0, -1, withscores=True)\n",
    "    return {\"ranking\": ranking}"
   ]
  },
  {
   "cell_type": "code",
   "execution_count": 76,
   "metadata": {},
   "outputs": [
    {
     "name": "stdout",
     "output_type": "stream",
     "text": [
      "/Users/lucasfreitasdeoliveira/Library/Python/3.9/lib/python/site-packages/urllib3/__init__.py:34: NotOpenSSLWarning: urllib3 v2 only supports OpenSSL 1.1.1+, currently the 'ssl' module is compiled with 'LibreSSL 2.8.3'. See: https://github.com/urllib3/urllib3/issues/3020\n",
      "  warnings.warn(\n",
      "\u001b[32mINFO\u001b[0m:     Will watch for changes in these directories: ['/Users/lucasfreitasdeoliveira/Documents/Cursos/FIAP/projeto_redis/projeto_quiz']\n",
      "\u001b[32mINFO\u001b[0m:     Uvicorn running on \u001b[1mhttp://127.0.0.1:8000\u001b[0m (Press CTRL+C to quit)\n",
      "\u001b[32mINFO\u001b[0m:     Started reloader process [\u001b[36m\u001b[1m74356\u001b[0m] using \u001b[36m\u001b[1mStatReload\u001b[0m\n",
      "\u001b[32mINFO\u001b[0m:     Started server process [\u001b[36m74361\u001b[0m]\n",
      "\u001b[32mINFO\u001b[0m:     Waiting for application startup.\n",
      "\u001b[32mINFO\u001b[0m:     Application startup complete.\n",
      "\u001b[32mINFO\u001b[0m:     127.0.0.1:60777 - \"\u001b[1mGET / HTTP/1.1\u001b[0m\" \u001b[31m404 Not Found\u001b[0m\n",
      "\u001b[32mINFO\u001b[0m:     127.0.0.1:60798 - \"\u001b[1mGET / HTTP/1.1\u001b[0m\" \u001b[31m404 Not Found\u001b[0m\n",
      "\u001b[32mINFO\u001b[0m:     127.0.0.1:60811 - \"\u001b[1mGET /docs HTTP/1.1\u001b[0m\" \u001b[32m200 OK\u001b[0m\n",
      "\u001b[32mINFO\u001b[0m:     127.0.0.1:60811 - \"\u001b[1mGET /openapi.json HTTP/1.1\u001b[0m\" \u001b[32m200 OK\u001b[0m\n",
      "\u001b[32mINFO\u001b[0m:     127.0.0.1:60853 - \"\u001b[1mGET / HTTP/1.1\u001b[0m\" \u001b[31m404 Not Found\u001b[0m\n",
      "^C\n",
      "\u001b[32mINFO\u001b[0m:     Shutting down\n",
      "\u001b[32mINFO\u001b[0m:     Waiting for application shutdown.\n",
      "\u001b[32mINFO\u001b[0m:     Application shutdown complete.\n",
      "\u001b[32mINFO\u001b[0m:     Finished server process [\u001b[36m74361\u001b[0m]\n",
      "\u001b[32mINFO\u001b[0m:     Stopping reloader process [\u001b[36m\u001b[1m74356\u001b[0m]\n"
     ]
    }
   ],
   "source": [
    "# Rodando o serviço\n",
    "!poetry run uvicorn app.main:app --reload"
   ]
  },
  {
   "cell_type": "code",
   "execution_count": 42,
   "metadata": {},
   "outputs": [],
   "source": [
    "!docker-compose up --build"
   ]
  },
  {
   "cell_type": "code",
   "execution_count": 43,
   "metadata": {},
   "outputs": [
    {
     "name": "stdout",
     "output_type": "stream",
     "text": [
      "zsh:1: command not found: python\n"
     ]
    }
   ],
   "source": [
    "!python -m http.server 8080"
   ]
  },
  {
   "cell_type": "code",
   "execution_count": 48,
   "metadata": {},
   "outputs": [],
   "source": [
    "from fastapi.staticfiles import StaticFiles\n",
    "# ... (restante do código)\n",
    "\n",
    "# Monta a pasta \"frontend\" para servir os arquivos estáticos\n",
    "app.mount(\"/frontend\", StaticFiles(directory=\"frontend\"), name=\"frontend\")"
   ]
  },
  {
   "cell_type": "code",
   "execution_count": 49,
   "metadata": {},
   "outputs": [],
   "source": [
    "!docker-compose up --build"
   ]
  },
  {
   "cell_type": "code",
   "execution_count": 51,
   "metadata": {},
   "outputs": [],
   "source": [
    "!docker-compose up --build"
   ]
  },
  {
   "cell_type": "code",
   "execution_count": 52,
   "metadata": {},
   "outputs": [
    {
     "name": "stdout",
     "output_type": "stream",
     "text": [
      "zsh:1: command not found: python\n"
     ]
    }
   ],
   "source": [
    "!python -m http.server 8080"
   ]
  },
  {
   "cell_type": "code",
   "execution_count": 53,
   "metadata": {},
   "outputs": [],
   "source": [
    "from fastapi.middleware.cors import CORSMiddleware\n",
    "\n",
    "app = FastAPI()\n",
    "\n",
    "app.add_middleware(\n",
    "    CORSMiddleware,\n",
    "    allow_origins=[\"*\"],  # Em produção, especifique os domínios permitidos\n",
    "    allow_credentials=True,\n",
    "    allow_methods=[\"*\"],\n",
    "    allow_headers=[\"*\"],\n",
    ")"
   ]
  },
  {
   "cell_type": "code",
   "execution_count": 54,
   "metadata": {},
   "outputs": [],
   "source": [
    "!docker ps"
   ]
  },
  {
   "cell_type": "code",
   "execution_count": 55,
   "metadata": {},
   "outputs": [],
   "source": [
    "!docker-compose up --build"
   ]
  },
  {
   "cell_type": "code",
   "execution_count": 56,
   "metadata": {},
   "outputs": [
    {
     "name": "stdout",
     "output_type": "stream",
     "text": [
      "zsh:1: command not found: uvicorn\n"
     ]
    }
   ],
   "source": [
    "!uvicorn app.main:app --reload --host 0.0.0.0 --port 8000"
   ]
  },
  {
   "cell_type": "code",
   "execution_count": 57,
   "metadata": {},
   "outputs": [],
   "source": [
    "!docker ps | grep redis"
   ]
  },
  {
   "cell_type": "code",
   "execution_count": 58,
   "metadata": {},
   "outputs": [
    {
     "name": "stdout",
     "output_type": "stream",
     "text": [
      "zsh:1: command not found: redis-cli\n"
     ]
    }
   ],
   "source": [
    "!redis-cli ping"
   ]
  },
  {
   "cell_type": "code",
   "execution_count": 59,
   "metadata": {},
   "outputs": [
    {
     "name": "stdout",
     "output_type": "stream",
     "text": [
      "curl: (7) Failed to connect to localhost port 8000 after 4 ms: Couldn't connect to server\n"
     ]
    }
   ],
   "source": [
    "!curl -i http://localhost:8000"
   ]
  },
  {
   "cell_type": "code",
   "execution_count": 60,
   "metadata": {},
   "outputs": [],
   "source": [
    "!docker-compose down\n",
    "!docker-compose up --build"
   ]
  },
  {
   "cell_type": "code",
   "execution_count": 61,
   "metadata": {},
   "outputs": [
    {
     "name": "stdout",
     "output_type": "stream",
     "text": [
      "zsh:1: command not found: uvicorn\n"
     ]
    }
   ],
   "source": [
    "!uvicorn app.main:app --reload --log-level debug"
   ]
  }
 ],
 "metadata": {
  "kernelspec": {
   "display_name": "Python 3",
   "language": "python",
   "name": "python3"
  },
  "language_info": {
   "codemirror_mode": {
    "name": "ipython",
    "version": 3
   },
   "file_extension": ".py",
   "mimetype": "text/x-python",
   "name": "python",
   "nbconvert_exporter": "python",
   "pygments_lexer": "ipython3",
   "version": "3.9.6"
  }
 },
 "nbformat": 4,
 "nbformat_minor": 2
}
